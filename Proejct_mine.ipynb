{
 "cells": [
  {
   "cell_type": "code",
   "execution_count": 1,
   "metadata": {
    "collapsed": true
   },
   "outputs": [],
   "source": [
    "import git_access,api_access,git2repo\n",
    "import json\n",
    "from __future__ import division\n",
    "import pandas as pd\n",
    "import numpy as np\n",
    "import matplotlib.pyplot as plt\n",
    "import math\n",
    "import networkx as nx\n",
    "import re\n",
    "import git2data\n",
    "import social_interaction\n",
    "\n",
    "import threading\n",
    "from threading import Barrier\n",
    "from multiprocessing import Queue"
   ]
  },
  {
   "cell_type": "code",
   "execution_count": null,
   "metadata": {
    "collapsed": true,
    "scrolled": true
   },
   "outputs": [],
   "source": [
    "threads = []\n",
    "queue = Queue()\n",
    "_project_list = pd.read_csv('project_list.csv')\n",
    "for j in range(0,_project_list.shape[0],2):\n",
    "    project_list = _project_list[j:j+2]\n",
    "    project_list.reset_index(inplace=True)\n",
    "    for i in range(project_list.shape[0]):\n",
    "        access_token = project_list.loc[i,'access_token']\n",
    "        repo_owner = project_list.loc[i,'repo_owner']\n",
    "        source_type = project_list.loc[i,'source_type']\n",
    "        git_url = project_list.loc[i,'git_url']\n",
    "        api_base_url = project_list.loc[i,'api_base_url']\n",
    "        repo_name = project_list.loc[i,'repo_name'] \n",
    "        git_data = git2data.git2data(access_token,repo_owner,source_type,git_url,api_base_url,repo_name)\n",
    "        print(\"Thread No\", i)\n",
    "        t = threading.Thread(target = git_data.create_data, args = [])\n",
    "        threads.append(t)\n",
    "    for th in threads:\n",
    "        th.start()"
   ]
  },
  {
   "cell_type": "code",
   "execution_count": null,
   "metadata": {
    "collapsed": true
   },
   "outputs": [],
   "source": [
    "AAAA"
   ]
  },
  {
   "cell_type": "code",
   "execution_count": null,
   "metadata": {
    "collapsed": true
   },
   "outputs": [],
   "source": []
  },
  {
   "cell_type": "code",
   "execution_count": 2,
   "metadata": {},
   "outputs": [
    {
     "name": "stdout",
     "output_type": "stream",
     "text": [
<<<<<<< HEAD
      "Thread No 0\n",
      "http://api.github.com/repos/apache/couchdb/issues?state=all&page=1&per_page=100\n",
      "http://api.github.com/repos/apache/couchdb/issues?state=all&page=2&per_page=100\n",
      "http://api.github.com/repos/apache/couchdb/issues?state=all&page=3&per_page=100\n",
      "http://api.github.com/repos/apache/couchdb/issues?state=all&page=4&per_page=100\n",
      "http://api.github.com/repos/apache/couchdb/issues?state=all&page=5&per_page=100\n",
      "http://api.github.com/repos/apache/couchdb/issues?state=all&page=6&per_page=100\n",
      "http://api.github.com/repos/apache/couchdb/issues?state=all&page=7&per_page=100\n",
      "http://api.github.com/repos/apache/couchdb/issues?state=all&page=8&per_page=100\n",
      "http://api.github.com/repos/apache/couchdb/issues?state=all&page=9&per_page=100\n",
      "http://api.github.com/repos/apache/couchdb/issues?state=all&page=10&per_page=100\n",
      "http://api.github.com/repos/apache/couchdb/issues?state=all&page=11&per_page=100\n",
      "http://api.github.com/repos/apache/couchdb/issues?state=all&page=12&per_page=100\n",
      "http://api.github.com/repos/apache/couchdb/issues?state=all&page=13&per_page=100\n",
      "http://api.github.com/repos/apache/couchdb/issues?state=all&page=14&per_page=100\n",
      "http://api.github.com/repos/apache/couchdb/issues?state=all&page=15&per_page=100\n",
      "http://api.github.com/repos/apache/couchdb/issues?state=all&page=16&per_page=100\n",
      "http://api.github.com/repos/apache/couchdb/issues?state=all&page=17&per_page=100\n",
      "http://api.github.com/repos/apache/couchdb/issues/events?page=1&per_page=100\n",
      "http://api.github.com/repos/apache/couchdb/issues/events?page=2&per_page=100\n",
      "http://api.github.com/repos/apache/couchdb/issues/events?page=3&per_page=100\n",
      "http://api.github.com/repos/apache/couchdb/issues/events?page=4&per_page=100\n",
      "http://api.github.com/repos/apache/couchdb/issues/events?page=5&per_page=100\n",
      "http://api.github.com/repos/apache/couchdb/issues/events?page=6&per_page=100\n",
      "http://api.github.com/repos/apache/couchdb/issues/events?page=7&per_page=100\n",
      "http://api.github.com/repos/apache/couchdb/issues/events?page=8&per_page=100\n",
      "http://api.github.com/repos/apache/couchdb/issues/events?page=9&per_page=100\n",
      "http://api.github.com/repos/apache/couchdb/issues/events?page=10&per_page=100\n",
      "http://api.github.com/repos/apache/couchdb/issues/events?page=11&per_page=100\n",
      "http://api.github.com/repos/apache/couchdb/issues/events?page=12&per_page=100\n",
      "http://api.github.com/repos/apache/couchdb/issues/events?page=13&per_page=100\n",
      "http://api.github.com/repos/apache/couchdb/issues/events?page=14&per_page=100\n",
      "http://api.github.com/repos/apache/couchdb/issues/events?page=15&per_page=100\n",
      "http://api.github.com/repos/apache/couchdb/issues/events?page=16&per_page=100\n",
      "http://api.github.com/repos/apache/couchdb/issues/events?page=17&per_page=100\n",
      "http://api.github.com/repos/apache/couchdb/issues/events?page=18&per_page=100\n",
      "http://api.github.com/repos/apache/couchdb/issues/events?page=19&per_page=100\n",
      "http://api.github.com/repos/apache/couchdb/issues/events?page=20&per_page=100\n",
      "http://api.github.com/repos/apache/couchdb/issues/events?page=21&per_page=100\n",
      "http://api.github.com/repos/apache/couchdb/issues/events?page=22&per_page=100\n",
      "http://api.github.com/repos/apache/couchdb/issues/events?page=23&per_page=100\n",
      "http://api.github.com/repos/apache/couchdb/issues/events?page=24&per_page=100\n",
      "http://api.github.com/repos/apache/couchdb/issues/events?page=25&per_page=100\n",
      "http://api.github.com/repos/apache/couchdb/issues/events?page=26&per_page=100\n",
      "http://api.github.com/repos/apache/couchdb/issues/events?page=27&per_page=100\n",
      "http://api.github.com/repos/apache/couchdb/issues/events?page=28&per_page=100\n",
      "http://api.github.com/repos/apache/couchdb/issues/events?page=29&per_page=100\n",
      "http://api.github.com/repos/apache/couchdb/issues/events?page=30&per_page=100\n",
      "http://api.github.com/repos/apache/couchdb/issues/events?page=31&per_page=100\n"
=======
      "1\n",
      "http://api.github.com/repos/tensorflow/models/issues?state=all&page=1&per_page=100\n",
      "http://api.github.com/repos/tensorflow/models/issues?state=all&page=2&per_page=100\n",
      "http://api.github.com/repos/tensorflow/models/issues?state=all&page=3&per_page=100\n",
      "http://api.github.com/repos/tensorflow/models/issues?state=all&page=4&per_page=100\n",
      "http://api.github.com/repos/tensorflow/models/issues?state=all&page=5&per_page=100\n",
      "http://api.github.com/repos/tensorflow/models/issues?state=all&page=6&per_page=100\n",
      "http://api.github.com/repos/tensorflow/models/issues?state=all&page=7&per_page=100\n",
      "http://api.github.com/repos/tensorflow/models/issues?state=all&page=8&per_page=100\n",
      "http://api.github.com/repos/tensorflow/models/issues?state=all&page=9&per_page=100\n",
      "http://api.github.com/repos/tensorflow/models/issues?state=all&page=10&per_page=100\n",
      "http://api.github.com/repos/tensorflow/models/issues?state=all&page=11&per_page=100\n",
      "http://api.github.com/repos/tensorflow/models/issues?state=all&page=12&per_page=100\n",
      "http://api.github.com/repos/tensorflow/models/issues?state=all&page=13&per_page=100\n",
      "http://api.github.com/repos/tensorflow/models/issues?state=all&page=14&per_page=100\n",
      "http://api.github.com/repos/tensorflow/models/issues?state=all&page=15&per_page=100\n",
      "http://api.github.com/repos/tensorflow/models/issues?state=all&page=16&per_page=100\n",
      "http://api.github.com/repos/tensorflow/models/issues?state=all&page=17&per_page=100\n",
      "http://api.github.com/repos/tensorflow/models/issues?state=all&page=18&per_page=100\n",
      "http://api.github.com/repos/tensorflow/models/issues?state=all&page=19&per_page=100\n",
      "http://api.github.com/repos/tensorflow/models/issues?state=all&page=20&per_page=100\n",
      "http://api.github.com/repos/tensorflow/models/issues?state=all&page=21&per_page=100\n",
      "http://api.github.com/repos/tensorflow/models/issues?state=all&page=22&per_page=100\n",
      "http://api.github.com/repos/tensorflow/models/issues?state=all&page=23&per_page=100\n",
      "http://api.github.com/repos/tensorflow/models/issues?state=all&page=24&per_page=100\n",
      "http://api.github.com/repos/tensorflow/models/issues?state=all&page=25&per_page=100\n",
      "http://api.github.com/repos/tensorflow/models/issues?state=all&page=26&per_page=100\n",
      "http://api.github.com/repos/tensorflow/models/issues?state=all&page=27&per_page=100\n"
     ]
    },
    {
     "ename": "Exception",
     "evalue": "HTTP ERROR 401: Unauthorized token",
     "output_type": "error",
     "traceback": [
      "\u001b[1;31m---------------------------------------------------------------------------\u001b[0m",
      "\u001b[1;31mException\u001b[0m                                 Traceback (most recent call last)",
      "\u001b[1;32m<ipython-input-2-ffba9ac450f6>\u001b[0m in \u001b[0;36m<module>\u001b[1;34m()\u001b[0m\n\u001b[0;32m      8\u001b[0m     \u001b[0mrepo_name\u001b[0m \u001b[1;33m=\u001b[0m \u001b[0mproject_list\u001b[0m\u001b[1;33m.\u001b[0m\u001b[0mloc\u001b[0m\u001b[1;33m[\u001b[0m\u001b[0mi\u001b[0m\u001b[1;33m,\u001b[0m\u001b[1;34m'repo_name'\u001b[0m\u001b[1;33m]\u001b[0m\u001b[1;33m\u001b[0m\u001b[0m\n\u001b[0;32m      9\u001b[0m     \u001b[0mgit_data\u001b[0m \u001b[1;33m=\u001b[0m \u001b[0mgit2data\u001b[0m\u001b[1;33m.\u001b[0m\u001b[0mgit2data\u001b[0m\u001b[1;33m(\u001b[0m\u001b[0maccess_token\u001b[0m\u001b[1;33m,\u001b[0m\u001b[0mrepo_owner\u001b[0m\u001b[1;33m,\u001b[0m\u001b[0msource_type\u001b[0m\u001b[1;33m,\u001b[0m\u001b[0mgit_url\u001b[0m\u001b[1;33m,\u001b[0m\u001b[0mapi_base_url\u001b[0m\u001b[1;33m,\u001b[0m\u001b[0mrepo_name\u001b[0m\u001b[1;33m)\u001b[0m\u001b[1;33m\u001b[0m\u001b[0m\n\u001b[1;32m---> 10\u001b[1;33m     \u001b[0mgit_data\u001b[0m\u001b[1;33m.\u001b[0m\u001b[0mcreate_data\u001b[0m\u001b[1;33m(\u001b[0m\u001b[1;33m)\u001b[0m\u001b[1;33m\u001b[0m\u001b[0m\n\u001b[0m",
      "\u001b[1;32mC:\\Users\\suvod\\AI4SE\\Git_miner\\git2data.py\u001b[0m in \u001b[0;36mcreate_data\u001b[1;34m(self)\u001b[0m\n\u001b[0;32m     91\u001b[0m     \u001b[1;32mdef\u001b[0m \u001b[0mcreate_data\u001b[0m\u001b[1;33m(\u001b[0m\u001b[0mself\u001b[0m\u001b[1;33m)\u001b[0m\u001b[1;33m:\u001b[0m\u001b[1;33m\u001b[0m\u001b[0m\n\u001b[0;32m     92\u001b[0m         \u001b[0mprint\u001b[0m\u001b[1;33m(\u001b[0m\u001b[1;34m\"1\"\u001b[0m\u001b[1;33m)\u001b[0m\u001b[1;33m\u001b[0m\u001b[0m\n\u001b[1;32m---> 93\u001b[1;33m         \u001b[0mself\u001b[0m\u001b[1;33m.\u001b[0m\u001b[0mget_api_data\u001b[0m\u001b[1;33m(\u001b[0m\u001b[1;33m)\u001b[0m\u001b[1;33m\u001b[0m\u001b[0m\n\u001b[0m\u001b[0;32m     94\u001b[0m         \u001b[0mprint\u001b[0m\u001b[1;33m(\u001b[0m\u001b[1;34m\"2\"\u001b[0m\u001b[1;33m)\u001b[0m\u001b[1;33m\u001b[0m\u001b[0m\n\u001b[0;32m     95\u001b[0m         \u001b[0mself\u001b[0m\u001b[1;33m.\u001b[0m\u001b[0mget_commit_data\u001b[0m\u001b[1;33m(\u001b[0m\u001b[1;33m)\u001b[0m\u001b[1;33m\u001b[0m\u001b[0m\n",
      "\u001b[1;32mC:\\Users\\suvod\\AI4SE\\Git_miner\\git2data.py\u001b[0m in \u001b[0;36mget_api_data\u001b[1;34m(self)\u001b[0m\n\u001b[0;32m     26\u001b[0m \u001b[1;33m\u001b[0m\u001b[0m\n\u001b[0;32m     27\u001b[0m     \u001b[1;32mdef\u001b[0m \u001b[0mget_api_data\u001b[0m\u001b[1;33m(\u001b[0m\u001b[0mself\u001b[0m\u001b[1;33m)\u001b[0m\u001b[1;33m:\u001b[0m\u001b[1;33m\u001b[0m\u001b[0m\n\u001b[1;32m---> 28\u001b[1;33m         \u001b[0mself\u001b[0m\u001b[1;33m.\u001b[0m\u001b[0mgit_issues\u001b[0m \u001b[1;33m=\u001b[0m \u001b[0mself\u001b[0m\u001b[1;33m.\u001b[0m\u001b[0mgit_client\u001b[0m\u001b[1;33m.\u001b[0m\u001b[0mget_issues\u001b[0m\u001b[1;33m(\u001b[0m\u001b[0murl_type\u001b[0m \u001b[1;33m=\u001b[0m \u001b[1;34m'issues'\u001b[0m\u001b[1;33m,\u001b[0m\u001b[0murl_details\u001b[0m \u001b[1;33m=\u001b[0m \u001b[1;34m''\u001b[0m\u001b[1;33m)\u001b[0m\u001b[1;33m\u001b[0m\u001b[0m\n\u001b[0m\u001b[0;32m     29\u001b[0m         \u001b[0mself\u001b[0m\u001b[1;33m.\u001b[0m\u001b[0mgit_issue_events\u001b[0m \u001b[1;33m=\u001b[0m \u001b[0mself\u001b[0m\u001b[1;33m.\u001b[0m\u001b[0mgit_client\u001b[0m\u001b[1;33m.\u001b[0m\u001b[0mget_events\u001b[0m\u001b[1;33m(\u001b[0m\u001b[0murl_type\u001b[0m \u001b[1;33m=\u001b[0m \u001b[1;34m'issues'\u001b[0m\u001b[1;33m,\u001b[0m\u001b[0murl_details\u001b[0m \u001b[1;33m=\u001b[0m \u001b[1;34m'events'\u001b[0m\u001b[1;33m)\u001b[0m\u001b[1;33m\u001b[0m\u001b[0m\n\u001b[0;32m     30\u001b[0m         \u001b[0mself\u001b[0m\u001b[1;33m.\u001b[0m\u001b[0mgit_issue_comments\u001b[0m \u001b[1;33m=\u001b[0m \u001b[0mself\u001b[0m\u001b[1;33m.\u001b[0m\u001b[0mgit_client\u001b[0m\u001b[1;33m.\u001b[0m\u001b[0mget_comments\u001b[0m\u001b[1;33m(\u001b[0m\u001b[0murl_type\u001b[0m \u001b[1;33m=\u001b[0m \u001b[1;34m'issues'\u001b[0m\u001b[1;33m,\u001b[0m\u001b[0murl_details\u001b[0m \u001b[1;33m=\u001b[0m \u001b[1;34m'comments'\u001b[0m\u001b[1;33m)\u001b[0m\u001b[1;33m\u001b[0m\u001b[0m\n",
      "\u001b[1;32mC:\\Users\\suvod\\AI4SE\\Git_miner\\api_access.py\u001b[0m in \u001b[0;36mget_issues\u001b[1;34m(self, url_type, url_details)\u001b[0m\n\u001b[0;32m     93\u001b[0m             \u001b[0mpage_number\u001b[0m \u001b[1;33m+=\u001b[0m \u001b[1;36m1\u001b[0m\u001b[1;33m\u001b[0m\u001b[0m\n\u001b[0;32m     94\u001b[0m             \u001b[0mprint\u001b[0m\u001b[1;33m(\u001b[0m\u001b[0mpaged_url\u001b[0m\u001b[1;33m)\u001b[0m\u001b[1;33m\u001b[0m\u001b[0m\n\u001b[1;32m---> 95\u001b[1;33m             \u001b[0mres\u001b[0m \u001b[1;33m=\u001b[0m \u001b[0mself\u001b[0m\u001b[1;33m.\u001b[0m\u001b[0mclient\u001b[0m\u001b[1;33m.\u001b[0m\u001b[0mget\u001b[0m\u001b[1;33m(\u001b[0m\u001b[0mpaged_url\u001b[0m\u001b[1;33m)\u001b[0m\u001b[1;33m\u001b[0m\u001b[0m\n\u001b[0m\u001b[0;32m     96\u001b[0m             \u001b[0mx\u001b[0m \u001b[1;33m=\u001b[0m \u001b[0mjson\u001b[0m\u001b[1;33m.\u001b[0m\u001b[0mloads\u001b[0m\u001b[1;33m(\u001b[0m\u001b[0mres\u001b[0m\u001b[1;33m.\u001b[0m\u001b[0mcontent\u001b[0m\u001b[1;33m)\u001b[0m\u001b[1;33m\u001b[0m\u001b[0m\n\u001b[0;32m     97\u001b[0m             \u001b[1;32mfor\u001b[0m \u001b[0mi\u001b[0m \u001b[1;32min\u001b[0m \u001b[0mrange\u001b[0m\u001b[1;33m(\u001b[0m\u001b[0mlen\u001b[0m\u001b[1;33m(\u001b[0m\u001b[0mx\u001b[0m\u001b[1;33m)\u001b[0m\u001b[1;33m)\u001b[0m\u001b[1;33m:\u001b[0m\u001b[1;33m\u001b[0m\u001b[0m\n",
      "\u001b[1;32mC:\\Users\\suvod\\AI4SE\\Git_miner\\git_access.py\u001b[0m in \u001b[0;36mget\u001b[1;34m(self, uri, headers, timeout, **kwargs)\u001b[0m\n\u001b[0;32m    106\u001b[0m         \u001b[1;32mif\u001b[0m \u001b[0mstatus_code\u001b[0m \u001b[1;33m==\u001b[0m \u001b[1;36m401\u001b[0m\u001b[1;33m:\u001b[0m\u001b[1;33m\u001b[0m\u001b[0m\n\u001b[0;32m    107\u001b[0m             \u001b[0mlogger\u001b[0m\u001b[1;33m.\u001b[0m\u001b[0merror\u001b[0m\u001b[1;33m(\u001b[0m\u001b[1;34m'HTTP ERROR 401: Unauthorized token: %s'\u001b[0m\u001b[1;33m,\u001b[0m \u001b[0mformat\u001b[0m\u001b[1;33m(\u001b[0m\u001b[0mself\u001b[0m\u001b[1;33m.\u001b[0m\u001b[0maccess_token\u001b[0m\u001b[1;33m)\u001b[0m\u001b[1;33m)\u001b[0m\u001b[1;33m\u001b[0m\u001b[0m\n\u001b[1;32m--> 108\u001b[1;33m             \u001b[1;32mraise\u001b[0m \u001b[0mException\u001b[0m\u001b[1;33m(\u001b[0m\u001b[1;34m'HTTP ERROR 401: Unauthorized token'\u001b[0m\u001b[1;33m)\u001b[0m\u001b[1;33m\u001b[0m\u001b[0m\n\u001b[0m\u001b[0;32m    109\u001b[0m \u001b[1;33m\u001b[0m\u001b[0m\n\u001b[0;32m    110\u001b[0m         \u001b[1;32mif\u001b[0m \u001b[0mself\u001b[0m\u001b[1;33m.\u001b[0m\u001b[0m_check_api_limit\u001b[0m\u001b[1;33m(\u001b[0m\u001b[0muri\u001b[0m\u001b[1;33m,\u001b[0m \u001b[0mresponse\u001b[0m\u001b[1;33m)\u001b[0m\u001b[1;33m:\u001b[0m\u001b[1;33m\u001b[0m\u001b[0m\n",
      "\u001b[1;31mException\u001b[0m: HTTP ERROR 401: Unauthorized token"
>>>>>>> a65f4b791cb5a48afe025f884e425e5c45d990a5
     ]
    }
   ],
   "source": [
    "project_list = pd.read_csv('project_list.csv')\n",
    "for i in range(project_list.shape[0]):\n",
    "    access_token = project_list.loc[i,'access_token']\n",
    "    repo_owner = project_list.loc[i,'repo_owner']\n",
    "    source_type = project_list.loc[i,'source_type']\n",
    "    git_url = project_list.loc[i,'git_url']\n",
    "    api_base_url = project_list.loc[i,'api_base_url']\n",
    "    repo_name = project_list.loc[i,'repo_name'] \n",
    "    git_data = git2data.git2data(access_token,repo_owner,source_type,git_url,api_base_url,repo_name)\n",
    "    git_data.create_data()"
   ]
  },
  {
   "cell_type": "code",
   "execution_count": null,
   "metadata": {
    "collapsed": true
   },
   "outputs": [],
   "source": []
  }
 ],
 "metadata": {
  "kernelspec": {
   "display_name": "Python 3",
   "language": "python",
   "name": "python3"
  },
  "language_info": {
   "codemirror_mode": {
    "name": "ipython",
    "version": 3
   },
   "file_extension": ".py",
   "mimetype": "text/x-python",
   "name": "python",
   "nbconvert_exporter": "python",
   "pygments_lexer": "ipython3",
   "version": "3.6.1"
  }
 },
 "nbformat": 4,
 "nbformat_minor": 2
}
