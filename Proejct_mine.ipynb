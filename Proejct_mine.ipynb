{
 "cells": [
  {
   "cell_type": "code",
   "execution_count": 1,
   "metadata": {},
   "outputs": [],
   "source": [
    "import git_access,api_access,git2repo\n",
    "import json\n",
    "from __future__ import division\n",
    "import pandas as pd\n",
    "import numpy as np\n",
    "import matplotlib.pyplot as plt\n",
    "import math\n",
    "import networkx as nx\n",
    "import re\n",
    "import git2data\n",
    "import social_interaction\n",
    "\n",
    "import threading\n",
    "from threading import Barrier\n",
    "from multiprocessing import Queue"
   ]
  },
  {
   "cell_type": "code",
   "execution_count": 2,
   "metadata": {
    "scrolled": true
   },
   "outputs": [
    {
     "name": "stdout",
     "output_type": "stream",
     "text": [
      "Thread No 0\n",
      "http://api.github.com/repos/apache/couchdb/issues?state=all&page=1&per_page=100\n",
      "http://api.github.com/repos/apache/couchdb/issues?state=all&page=2&per_page=100\n",
      "http://api.github.com/repos/apache/couchdb/issues?state=all&page=3&per_page=100\n",
      "http://api.github.com/repos/apache/couchdb/issues?state=all&page=4&per_page=100\n",
      "http://api.github.com/repos/apache/couchdb/issues?state=all&page=5&per_page=100\n",
      "http://api.github.com/repos/apache/couchdb/issues?state=all&page=6&per_page=100\n",
      "http://api.github.com/repos/apache/couchdb/issues?state=all&page=7&per_page=100\n",
      "http://api.github.com/repos/apache/couchdb/issues?state=all&page=8&per_page=100\n",
      "http://api.github.com/repos/apache/couchdb/issues?state=all&page=9&per_page=100\n",
      "http://api.github.com/repos/apache/couchdb/issues?state=all&page=10&per_page=100\n",
      "http://api.github.com/repos/apache/couchdb/issues?state=all&page=11&per_page=100\n",
      "http://api.github.com/repos/apache/couchdb/issues?state=all&page=12&per_page=100\n",
      "http://api.github.com/repos/apache/couchdb/issues?state=all&page=13&per_page=100\n",
      "http://api.github.com/repos/apache/couchdb/issues?state=all&page=14&per_page=100\n",
      "http://api.github.com/repos/apache/couchdb/issues?state=all&page=15&per_page=100\n",
      "http://api.github.com/repos/apache/couchdb/issues?state=all&page=16&per_page=100\n",
      "http://api.github.com/repos/apache/couchdb/issues?state=all&page=17&per_page=100\n",
      "http://api.github.com/repos/apache/couchdb/issues/events?page=1&per_page=100\n",
      "http://api.github.com/repos/apache/couchdb/issues/events?page=2&per_page=100\n",
      "http://api.github.com/repos/apache/couchdb/issues/events?page=3&per_page=100\n",
      "http://api.github.com/repos/apache/couchdb/issues/events?page=4&per_page=100\n",
      "http://api.github.com/repos/apache/couchdb/issues/events?page=5&per_page=100\n",
      "http://api.github.com/repos/apache/couchdb/issues/events?page=6&per_page=100\n",
      "http://api.github.com/repos/apache/couchdb/issues/events?page=7&per_page=100\n",
      "http://api.github.com/repos/apache/couchdb/issues/events?page=8&per_page=100\n",
      "http://api.github.com/repos/apache/couchdb/issues/events?page=9&per_page=100\n",
      "http://api.github.com/repos/apache/couchdb/issues/events?page=10&per_page=100\n",
      "http://api.github.com/repos/apache/couchdb/issues/events?page=11&per_page=100\n",
      "http://api.github.com/repos/apache/couchdb/issues/events?page=12&per_page=100\n",
      "http://api.github.com/repos/apache/couchdb/issues/events?page=13&per_page=100\n",
      "http://api.github.com/repos/apache/couchdb/issues/events?page=14&per_page=100\n",
      "http://api.github.com/repos/apache/couchdb/issues/events?page=15&per_page=100\n",
      "http://api.github.com/repos/apache/couchdb/issues/events?page=16&per_page=100\n",
      "http://api.github.com/repos/apache/couchdb/issues/events?page=17&per_page=100\n",
      "http://api.github.com/repos/apache/couchdb/issues/events?page=18&per_page=100\n",
      "http://api.github.com/repos/apache/couchdb/issues/events?page=19&per_page=100\n",
      "http://api.github.com/repos/apache/couchdb/issues/events?page=20&per_page=100\n",
      "http://api.github.com/repos/apache/couchdb/issues/events?page=21&per_page=100\n",
      "http://api.github.com/repos/apache/couchdb/issues/events?page=22&per_page=100\n",
      "http://api.github.com/repos/apache/couchdb/issues/events?page=23&per_page=100\n",
      "http://api.github.com/repos/apache/couchdb/issues/events?page=24&per_page=100\n",
      "http://api.github.com/repos/apache/couchdb/issues/events?page=25&per_page=100\n",
      "http://api.github.com/repos/apache/couchdb/issues/events?page=26&per_page=100\n",
      "http://api.github.com/repos/apache/couchdb/issues/events?page=27&per_page=100\n",
      "http://api.github.com/repos/apache/couchdb/issues/events?page=28&per_page=100\n",
      "http://api.github.com/repos/apache/couchdb/issues/events?page=29&per_page=100\n",
      "http://api.github.com/repos/apache/couchdb/issues/events?page=30&per_page=100\n",
      "http://api.github.com/repos/apache/couchdb/issues/events?page=31&per_page=100\n"
     ]
    }
   ],
   "source": [
    "threads = []\n",
    "queue = Queue()\n",
    "project_list = pd.read_csv('project_list.csv')\n",
    "for i in range(project_list.shape[0]):\n",
    "    access_token = project_list.loc[i,'access_token']\n",
    "    repo_owner = project_list.loc[i,'repo_owner']\n",
    "    source_type = project_list.loc[i,'source_type']\n",
    "    git_url = project_list.loc[i,'git_url']\n",
    "    api_base_url = project_list.loc[i,'api_base_url']\n",
    "    repo_name = project_list.loc[i,'repo_name'] \n",
    "    git_data = git2data.git2data(access_token,repo_owner,source_type,git_url,api_base_url,repo_name)\n",
    "    print(\"Thread No\", i)\n",
    "    t = threading.Thread(target = git_data.create_data, args = [])\n",
    "    threads.append(t)\n",
    "for th in threads:\n",
    "    th.start()"
   ]
  },
  {
   "cell_type": "code",
   "execution_count": null,
   "metadata": {},
   "outputs": [],
   "source": []
  },
  {
   "cell_type": "code",
   "execution_count": null,
   "metadata": {},
   "outputs": [],
   "source": []
  }
 ],
 "metadata": {
  "kernelspec": {
   "display_name": "Python 3",
   "language": "python",
   "name": "python3"
  },
  "language_info": {
   "codemirror_mode": {
    "name": "ipython",
    "version": 3
   },
   "file_extension": ".py",
   "mimetype": "text/x-python",
   "name": "python",
   "nbconvert_exporter": "python",
   "pygments_lexer": "ipython3",
   "version": "3.6.5"
  }
 },
 "nbformat": 4,
 "nbformat_minor": 2
}
