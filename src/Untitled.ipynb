{
 "cells": [
  {
   "cell_type": "code",
   "execution_count": 4,
   "metadata": {},
   "outputs": [],
   "source": [
    "import get_projects"
   ]
  },
  {
   "cell_type": "code",
   "execution_count": 5,
   "metadata": {},
   "outputs": [
    {
     "name": "stdout",
     "output_type": "stream",
     "text": [
      "starting graph\n",
      "Done everything\n",
      "False\n"
     ]
    }
   ],
   "source": [
    "x = get_projects.get_heros()"
   ]
  },
  {
   "cell_type": "code",
   "execution_count": null,
   "metadata": {
    "scrolled": true
   },
   "outputs": [],
   "source": [
    "for i in range(x.shape[0]):\n",
    "    if x.iloc[i,1] <= x.ob.sum()*0.8:\n",
    "        continue\n",
    "    print(1 - i/x.shape[0]<0.2)"
   ]
  },
  {
   "cell_type": "code",
   "execution_count": null,
   "metadata": {},
   "outputs": [],
   "source": [
    "x.ob.sum()*0.8"
   ]
  },
  {
   "cell_type": "code",
   "execution_count": 6,
   "metadata": {},
   "outputs": [
    {
     "data": {
      "text/html": [
       "<div>\n",
       "<style scoped>\n",
       "    .dataframe tbody tr th:only-of-type {\n",
       "        vertical-align: middle;\n",
       "    }\n",
       "\n",
       "    .dataframe tbody tr th {\n",
       "        vertical-align: top;\n",
       "    }\n",
       "\n",
       "    .dataframe thead th {\n",
       "        text-align: right;\n",
       "    }\n",
       "</style>\n",
       "<table border=\"1\" class=\"dataframe\">\n",
       "  <thead>\n",
       "    <tr style=\"text-align: right;\">\n",
       "      <th></th>\n",
       "      <th>repo_name</th>\n",
       "      <th>repo_owner</th>\n",
       "      <th>git_url</th>\n",
       "      <th>api_base_url</th>\n",
       "      <th>source_type</th>\n",
       "      <th>access_token</th>\n",
       "      <th>lang</th>\n",
       "      <th>heros</th>\n",
       "    </tr>\n",
       "  </thead>\n",
       "  <tbody>\n",
       "    <tr>\n",
       "      <th>0</th>\n",
       "      <td>spark</td>\n",
       "      <td>perwendel</td>\n",
       "      <td>https://github.com/perwendel/spark.git</td>\n",
       "      <td>http://api.github.com</td>\n",
       "      <td>github_repo</td>\n",
       "      <td>c9e787f09dbc32adae1ecfc6a43708a4b654576a</td>\n",
       "      <td>java</td>\n",
       "      <td>True</td>\n",
       "    </tr>\n",
       "  </tbody>\n",
       "</table>\n",
       "</div>"
      ],
      "text/plain": [
       "  repo_name repo_owner                                 git_url  \\\n",
       "0     spark  perwendel  https://github.com/perwendel/spark.git   \n",
       "\n",
       "            api_base_url  source_type  \\\n",
       "0  http://api.github.com  github_repo   \n",
       "\n",
       "                               access_token  lang  heros  \n",
       "0  c9e787f09dbc32adae1ecfc6a43708a4b654576a  java   True  "
      ]
     },
     "execution_count": 6,
     "metadata": {},
     "output_type": "execute_result"
    }
   ],
   "source": [
    "x"
   ]
  },
  {
   "cell_type": "code",
   "execution_count": null,
   "metadata": {},
   "outputs": [],
   "source": []
  }
 ],
 "metadata": {
  "kernelspec": {
   "display_name": "Python 3",
   "language": "python",
   "name": "python3"
  },
  "language_info": {
   "codemirror_mode": {
    "name": "ipython",
    "version": 3
   },
   "file_extension": ".py",
   "mimetype": "text/x-python",
   "name": "python",
   "nbconvert_exporter": "python",
   "pygments_lexer": "ipython3",
   "version": "3.7.3"
  }
 },
 "nbformat": 4,
 "nbformat_minor": 2
}
