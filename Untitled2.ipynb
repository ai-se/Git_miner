{
 "cells": [
  {
   "cell_type": "code",
   "execution_count": 6,
   "metadata": {},
   "outputs": [],
   "source": [
    "import pandas as pd\n",
    "from pygit2 import clone_repository\n",
    "from pygit2 import GIT_SORT_TOPOLOGICAL, GIT_SORT_REVERSE,GIT_MERGE_ANALYSIS_UP_TO_DATE,GIT_MERGE_ANALYSIS_FASTFORWARD,GIT_MERGE_ANALYSIS_NORMAL,GIT_RESET_HARD\n",
    "from pygit2 import Repository\n",
    "import shutil,os\n",
    "import pygit2\n",
    "from os import listdir\n",
    "from os.path import isfile, join\n",
    "from datetime import datetime\n",
    "import platform\n",
    "import threading\n",
    "from multiprocessing import Queue\n",
    "from threading import Thread\n",
    "import numpy as np\n",
    "import itertools"
   ]
  },
  {
   "cell_type": "code",
   "execution_count": 2,
   "metadata": {},
   "outputs": [],
   "source": [
    "df = pd.read_pickle('./data/couchdb_commit.pkl')"
   ]
  },
  {
   "cell_type": "code",
   "execution_count": 7,
   "metadata": {},
   "outputs": [],
   "source": [
    "df_commit_id = df.commit_number.values.tolist()\n",
    "repo_path = os.getcwd() + '/temp_repo/' + 'couchdb'"
   ]
  },
  {
   "cell_type": "code",
   "execution_count": 10,
   "metadata": {},
   "outputs": [],
   "source": [
    "repo = clone_repository('git://github.com/apache/couchdb.git', repo_path)"
   ]
  },
  {
   "cell_type": "code",
   "execution_count": 11,
   "metadata": {},
   "outputs": [],
   "source": [
    "commits = []\n",
    "for commit in df_commit_id:\n",
    "    obj = repo.get(commit)\n",
    "    commits.append(obj)"
   ]
  },
  {
   "cell_type": "code",
   "execution_count": 13,
   "metadata": {},
   "outputs": [
    {
     "data": {
      "text/plain": [
       "12431"
      ]
     },
     "execution_count": 13,
     "metadata": {},
     "output_type": "execute_result"
    }
   ],
   "source": [
    "len(commits)"
   ]
  },
  {
   "cell_type": "code",
   "execution_count": 15,
   "metadata": {},
   "outputs": [
    {
     "name": "stdout",
     "output_type": "stream",
     "text": [
      "0 622\n",
      "622 1244\n",
      "1244 1865\n",
      "1865 2487\n",
      "2487 3108\n",
      "3108 3730\n",
      "3730 4351\n",
      "4351 4973\n",
      "4973 5594\n",
      "5594 6216\n",
      "6216 6838\n",
      "6838 7459\n",
      "7459 8081\n",
      "8081 8702\n",
      "8702 9324\n",
      "9324 9945\n",
      "9945 10567\n",
      "10567 11188\n",
      "11188 11810\n",
      "11810 12431\n"
     ]
    }
   ],
   "source": [
    "import math\n",
    "num = len(commits)/20\n",
    "for i in range(20):\n",
    "    print(math.ceil(num*i),math.ceil(num*(i+1)))"
   ]
  },
  {
   "cell_type": "code",
   "execution_count": null,
   "metadata": {},
   "outputs": [],
   "source": []
  }
 ],
 "metadata": {
  "kernelspec": {
   "display_name": "Python 3",
   "language": "python",
   "name": "python3"
  },
  "language_info": {
   "codemirror_mode": {
    "name": "ipython",
    "version": 3
   },
   "file_extension": ".py",
   "mimetype": "text/x-python",
   "name": "python",
   "nbconvert_exporter": "python",
   "pygments_lexer": "ipython3",
   "version": "3.6.5"
  }
 },
 "nbformat": 4,
 "nbformat_minor": 2
}
