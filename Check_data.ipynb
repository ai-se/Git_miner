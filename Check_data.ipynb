{
 "cells": [
  {
   "cell_type": "code",
   "execution_count": 1,
   "metadata": {
    "collapsed": true
   },
   "outputs": [],
   "source": [
    "import git2repo\n",
    "import pygit2\n",
    "import re\n",
    "import pandas as pd\n",
    "from datetime import datetime\n",
    "import re, unicodedata\n",
    "import nltk.corpus\n",
    "from nltk.stem import PorterStemmer,SnowballStemmer\n",
    "from nltk.stem import WordNetLemmatizer\n",
    "from pygit2 import GIT_SORT_TOPOLOGICAL, GIT_SORT_REVERSE\n",
    "repo_url = 'git://github.com/rspec/rspec-rails.git'\n",
    "repo_name = 'rspec-rails'"
   ]
  },
  {
   "cell_type": "code",
   "execution_count": 2,
   "metadata": {
    "collapsed": true
   },
   "outputs": [],
   "source": [
    "repo_obj = git2repo.git2repo(repo_url,repo_name)\n",
    "repo = repo_obj.clone_repo()"
   ]
  },
  {
   "cell_type": "code",
   "execution_count": 4,
   "metadata": {},
   "outputs": [
    {
     "data": {
      "text/plain": [
       "['master',\n",
       " 'origin/2-0-stable',\n",
       " 'origin/2-11-maintenance',\n",
       " 'origin/2-12-maintenance',\n",
       " 'origin/2-13-maintenance',\n",
       " 'origin/2-14-maintenance',\n",
       " 'origin/2-2-maintenance',\n",
       " 'origin/2-3-maintenance',\n",
       " 'origin/2-9-maintenance',\n",
       " 'origin/2-99-maintenance',\n",
       " 'origin/3-0-maintenance',\n",
       " 'origin/3-1-maintenance',\n",
       " 'origin/3-2-maintenance',\n",
       " 'origin/3-4-maintenance',\n",
       " 'origin/3-5-maintenance',\n",
       " 'origin/3-6-maintenance',\n",
       " 'origin/3-7-maintenance',\n",
       " 'origin/3-8-maintenance',\n",
       " 'origin/active-support-test-case-assertion',\n",
       " 'origin/assertion-delegate',\n",
       " 'origin/change_git_to_https',\n",
       " 'origin/cherry-pick-1951',\n",
       " 'origin/contributing-updates',\n",
       " 'origin/fix-no-method-error-render_views',\n",
       " 'origin/master',\n",
       " 'origin/move-have-rendered-to-public-api',\n",
       " 'origin/patch-mocks-json',\n",
       " 'origin/rails-5-support',\n",
       " 'origin/rails4-minitest-lifecycle',\n",
       " 'origin/records-in-rails-4',\n",
       " 'origin/remove-base-matcher-dependencies',\n",
       " 'origin/revert-1730-support-for-argument-matchers',\n",
       " 'origin/rfc-versioning-strategy',\n",
       " 'origin/spike-modular-structure',\n",
       " 'origin/thomas-holmes-deprecate-stub-mock-model',\n",
       " 'origin/update-travis-build-scripts-2018-01-02-for-master',\n",
       " 'origin/update-travis-build-scripts-2018-04-03-for-master',\n",
       " 'origin/upgrade-rubocop',\n",
       " 'origin/upgrade-yard',\n",
       " 'origin/warn-on-before-context-fixture-helper',\n",
       " 'origin/with-param-wrapping']"
      ]
     },
     "execution_count": 4,
     "metadata": {},
     "output_type": "execute_result"
    }
   ],
   "source": [
    "list(repo_obj.get_branches())"
   ]
  },
  {
   "cell_type": "code",
   "execution_count": 3,
   "metadata": {
    "collapsed": true
   },
   "outputs": [],
   "source": [
    "commits = repo_obj.get_commit_objects()\n",
    "commit_df = pd.DataFrame(commits, columns = ['commit_object'])\n",
    "commit_df['isBuggy'] = pd.Series([0]*commit_df.shape[0])"
   ]
  },
  {
   "cell_type": "code",
   "execution_count": 4,
   "metadata": {
    "collapsed": true
   },
   "outputs": [],
   "source": [
    "committed_files = repo_obj.get_committed_files()"
   ]
  },
  {
   "cell_type": "code",
   "execution_count": 5,
   "metadata": {},
   "outputs": [
    {
     "ename": "TypeError",
     "evalue": "<_pygit2.Commit object at 0x00000204846075B0>",
     "output_type": "error",
     "traceback": [
      "\u001b[1;31m---------------------------------------------------------------------------\u001b[0m",
      "\u001b[1;31mTypeError\u001b[0m                                 Traceback (most recent call last)",
      "\u001b[1;32m<ipython-input-5-a0cbe4eb5a99>\u001b[0m in \u001b[0;36m<module>\u001b[1;34m()\u001b[0m\n\u001b[1;32m----> 1\u001b[1;33m \u001b[0mdiffs\u001b[0m \u001b[1;33m=\u001b[0m \u001b[0mrepo_obj\u001b[0m\u001b[1;33m.\u001b[0m\u001b[0mget_diffs\u001b[0m\u001b[1;33m(\u001b[0m\u001b[0mcommits\u001b[0m\u001b[1;33m)\u001b[0m\u001b[1;33m\u001b[0m\u001b[0m\n\u001b[0m",
      "\u001b[1;32mC:\\Users\\suvod\\AI4SE\\Git_miner\\git2repo.py\u001b[0m in \u001b[0;36mget_diffs\u001b[1;34m(self, commits)\u001b[0m\n\u001b[0;32m     68\u001b[0m         \u001b[0mdiffs\u001b[0m \u001b[1;33m=\u001b[0m \u001b[1;33m{\u001b[0m\u001b[1;33m}\u001b[0m\u001b[1;33m\u001b[0m\u001b[0m\n\u001b[0;32m     69\u001b[0m         \u001b[1;32mfor\u001b[0m \u001b[0mi\u001b[0m \u001b[1;32min\u001b[0m \u001b[0mrange\u001b[0m\u001b[1;33m(\u001b[0m\u001b[0mlen\u001b[0m\u001b[1;33m(\u001b[0m\u001b[0mcommits\u001b[0m\u001b[1;33m)\u001b[0m\u001b[1;33m)\u001b[0m\u001b[1;33m:\u001b[0m\u001b[1;33m\u001b[0m\u001b[0m\n\u001b[1;32m---> 70\u001b[1;33m             \u001b[0mt0\u001b[0m \u001b[1;33m=\u001b[0m \u001b[0mself\u001b[0m\u001b[1;33m.\u001b[0m\u001b[0mrepo\u001b[0m\u001b[1;33m.\u001b[0m\u001b[0mget\u001b[0m\u001b[1;33m(\u001b[0m\u001b[0mcommits\u001b[0m\u001b[1;33m[\u001b[0m\u001b[0mi\u001b[0m\u001b[1;33m]\u001b[0m\u001b[1;33m)\u001b[0m\u001b[1;33m\u001b[0m\u001b[0m\n\u001b[0m\u001b[0;32m     71\u001b[0m             \u001b[0mfiles\u001b[0m \u001b[1;33m=\u001b[0m \u001b[1;33m{\u001b[0m\u001b[1;33m}\u001b[0m\u001b[1;33m\u001b[0m\u001b[0m\n\u001b[0;32m     72\u001b[0m             \u001b[1;32mif\u001b[0m \u001b[0mi\u001b[0m \u001b[1;33m!=\u001b[0m \u001b[1;36m0\u001b[0m\u001b[1;33m:\u001b[0m\u001b[1;33m\u001b[0m\u001b[0m\n",
      "\u001b[1;32mC:\\Program Files\\Anaconda3\\lib\\site-packages\\pygit2\\repository.py\u001b[0m in \u001b[0;36mget\u001b[1;34m(self, key, default)\u001b[0m\n\u001b[0;32m    111\u001b[0m     \u001b[1;31m#\u001b[0m\u001b[1;33m\u001b[0m\u001b[1;33m\u001b[0m\u001b[0m\n\u001b[0;32m    112\u001b[0m     \u001b[1;32mdef\u001b[0m \u001b[0mget\u001b[0m\u001b[1;33m(\u001b[0m\u001b[0mself\u001b[0m\u001b[1;33m,\u001b[0m \u001b[0mkey\u001b[0m\u001b[1;33m,\u001b[0m \u001b[0mdefault\u001b[0m\u001b[1;33m=\u001b[0m\u001b[1;32mNone\u001b[0m\u001b[1;33m)\u001b[0m\u001b[1;33m:\u001b[0m\u001b[1;33m\u001b[0m\u001b[0m\n\u001b[1;32m--> 113\u001b[1;33m         \u001b[0mvalue\u001b[0m \u001b[1;33m=\u001b[0m \u001b[0mself\u001b[0m\u001b[1;33m.\u001b[0m\u001b[0mgit_object_lookup_prefix\u001b[0m\u001b[1;33m(\u001b[0m\u001b[0mkey\u001b[0m\u001b[1;33m)\u001b[0m\u001b[1;33m\u001b[0m\u001b[0m\n\u001b[0m\u001b[0;32m    114\u001b[0m         \u001b[1;32mreturn\u001b[0m \u001b[0mvalue\u001b[0m \u001b[1;32mif\u001b[0m \u001b[1;33m(\u001b[0m\u001b[0mvalue\u001b[0m \u001b[1;32mis\u001b[0m \u001b[1;32mnot\u001b[0m \u001b[1;32mNone\u001b[0m\u001b[1;33m)\u001b[0m \u001b[1;32melse\u001b[0m \u001b[0mdefault\u001b[0m\u001b[1;33m\u001b[0m\u001b[0m\n\u001b[0;32m    115\u001b[0m \u001b[1;33m\u001b[0m\u001b[0m\n",
      "\u001b[1;31mTypeError\u001b[0m: <_pygit2.Commit object at 0x00000204846075B0>"
     ]
    }
   ],
   "source": [
    "diffs = repo_obj.get_diffs(commits)"
   ]
  },
  {
   "cell_type": "code",
   "execution_count": 6,
   "metadata": {
    "collapsed": true
   },
   "outputs": [],
   "source": [
    "def isBuggyCommit(commit):\n",
    "    res=re.search(r'\\b{bug|defect|fix|patch|#}\\b',stemming(commit.message),re.IGNORECASE)\n",
    "    if res is not None:\n",
    "        return True\n",
    "\n",
    "def stemming(x):\n",
    "    port_stem = PorterStemmer()\n",
    "    words = []\n",
    "    for word in x.split(' '):\n",
    "        words.append(port_stem.stem(word))\n",
    "    return ' '.join(words)"
   ]
  },
  {
   "cell_type": "code",
   "execution_count": 7,
   "metadata": {
    "collapsed": true
   },
   "outputs": [],
   "source": [
    "for i in range(commit_df.shape[0]):\n",
    "    result = isBuggyCommit(commit_df.loc[i,'commit_object'])\n",
    "    if result:\n",
    "        commit_df.loc[i,'isBuggy'] = 1\n",
    "    else:\n",
    "        commit_df.loc[i,'isBuggy'] = 0"
   ]
  },
  {
   "cell_type": "code",
   "execution_count": 8,
   "metadata": {
    "collapsed": true
   },
   "outputs": [],
   "source": [
    "buggy_commit_df = commit_df[commit_df['isBuggy'] == 1]\n",
    "buggy_diffs = repo_obj.get_diffs(buggy_commit_df['commit_object'].values.tolist())\n",
    "bug_creator = []\n",
    "for value in buggy_diffs:\n",
    "    _diff_files = buggy_diffs[value]['files']\n",
    "    repo.head.set_target(buggy_diffs[value]['object'].parent_ids[0])\n",
    "    for _value in _diff_files:\n",
    "        try:\n",
    "            file_path = _diff_files[_value]['file_path']\n",
    "            blame = repo_obj.get_blame(file_path)\n",
    "            for _line in _diff_files[_value]['old_lines']:\n",
    "                if _line != -1:\n",
    "                    ref = blame.for_line(_line)\n",
    "                    bug_creator.append([ref.final_committer.name, ref.orig_commit_id, 1])\n",
    "        except:\n",
    "            continue"
   ]
  },
  {
   "cell_type": "code",
   "execution_count": 11,
   "metadata": {
    "collapsed": true
   },
   "outputs": [],
   "source": [
    "pygit2.discover_repository(repo_obj.repo_path)\n",
    "repo = pygit2.Repository(pygit2.discover_repository(repo_obj.repo_path))"
   ]
  },
  {
   "cell_type": "code",
   "execution_count": 92,
   "metadata": {
    "collapsed": true
   },
   "outputs": [],
   "source": [
    "repo_obj.repo_remove()"
   ]
  },
  {
   "cell_type": "code",
   "execution_count": 43,
   "metadata": {
    "collapsed": true
   },
   "outputs": [],
   "source": [
    "bug_creator_df = pd.DataFrame(bug_creator, columns = ['committer','commit','ob'])\n",
    "bug_creator_df = bug_creator_df.drop_duplicates()\n",
    "df = bug_creator_df.groupby( ['committer']).count()\n",
    "defect_count = []\n",
    "for key,value in df.iterrows():\n",
    "    user = key\n",
    "    count = value.values.tolist()[0]\n",
    "    defect_count.append([user,count])"
   ]
  },
  {
   "cell_type": "code",
   "execution_count": 87,
   "metadata": {
    "collapsed": true
   },
   "outputs": [],
   "source": [
    "committer_count = []\n",
    "for i in range(commit_df.shape[0]):\n",
    "    commit_id = commit_df.loc[i,'commit_object'].id\n",
    "    user = commit_df.loc[i,'commit_object'].committer\n",
    "    committer_count.append([user.name, commit_id, 1])\n",
    "committer_count_df = pd.DataFrame(committer_count, columns = ['committer', 'commit_id', 'ob'])\n",
    "committer_count_df = committer_count_df.drop_duplicates()\n",
    "df = committer_count_df.groupby( ['committer']).count()\n",
    "commit_count = []\n",
    "for key,value in df.iterrows():\n",
    "    user = key\n",
    "    count = value.values.tolist()[0]\n",
    "    commit_count.append([user,count])"
   ]
  },
  {
   "cell_type": "code",
   "execution_count": 90,
   "metadata": {},
   "outputs": [
    {
     "data": {
      "text/plain": [
       "[['Aaron Blew', 1],\n",
       " ['Aaron Kromer', 290],\n",
       " ['Abdelkader Boudih', 2],\n",
       " ['AbuSabah', 1],\n",
       " ['Ahmed AbouElhamayed', 2],\n",
       " ['Al Snow', 1],\n",
       " ['Alan Shields', 2],\n",
       " ['Alex Egan', 4],\n",
       " ['Alex Rothenberg', 8],\n",
       " ['Alex Yaremyuk', 1],\n",
       " ['Andre Arko & Doc Ritezel', 1],\n",
       " ['Andrei Maxim', 1],\n",
       " ['Andrew White', 2],\n",
       " ['Andrew Wilcox', 1],\n",
       " ['Andrey Voronkov', 1],\n",
       " ['André Arko', 1],\n",
       " ['Andy Lindeman', 318],\n",
       " ['Andy Morris', 1],\n",
       " ['Andy Waite', 1],\n",
       " ['Anthony Dmitriyev', 1],\n",
       " ['Anton Davydov', 1],\n",
       " ['Anton Rieder', 1],\n",
       " ['Ara Hacopian', 1],\n",
       " ['Ari Pollak', 1],\n",
       " ['Artur Roszczyk', 1],\n",
       " ['Attila Györffy', 2],\n",
       " ['Ben Hamill', 3],\n",
       " ['Ben Morris', 1],\n",
       " ['Ben Moss', 1],\n",
       " ['Benjamin Quorning', 9],\n",
       " ['Benoit Tigeot', 14],\n",
       " ['Billy', 5],\n",
       " ['Bradley Schaefer', 26],\n",
       " ['Brent J. Nordquist', 1],\n",
       " ['Brian Cardarella', 1],\n",
       " ['Brian Fontenot', 2],\n",
       " ['Brian John', 1],\n",
       " ['Brian Kane', 2],\n",
       " ['Brian Kephart', 1],\n",
       " ['Bryan Helmkamp', 1],\n",
       " ['Bryan Ricker', 1],\n",
       " ['Carlhuda', 3],\n",
       " ['Chris Thorn', 1],\n",
       " ['Chris Your', 1],\n",
       " ['Chris Zetter', 2],\n",
       " ['Christof', 1],\n",
       " ['Dan Kohn', 1],\n",
       " ['Dan Rasband', 4],\n",
       " ['Daniel Colson', 1],\n",
       " ['DarthSim', 4],\n",
       " ['Dave Marr', 1],\n",
       " ['Dave Woodall', 1],\n",
       " ['David Chelimsky', 986],\n",
       " ['David Daniell', 1],\n",
       " ['David Long', 1],\n",
       " ['David Rodríguez', 7],\n",
       " ['Dennis Ideler', 2],\n",
       " ['Diego Carrion', 1],\n",
       " ['Diego Plentz', 5],\n",
       " ['Douglas Lovell', 10],\n",
       " ['Edward Rudd', 1],\n",
       " ['Elena Sharma', 1],\n",
       " ['Eliot Sykes', 2],\n",
       " ['Eric Marden', 1],\n",
       " ['Fernando Seror', 1],\n",
       " ['Florian Thomas', 1],\n",
       " ['Gabe Martin-Dempesy', 3],\n",
       " ['Giovanni Cappellotto', 3],\n",
       " ['GitHub', 105],\n",
       " ['Grant Hutchins', 1],\n",
       " ['Griffin Smith', 4],\n",
       " ['Henrik Nyh', 1],\n",
       " ['Igor Zubkov', 1],\n",
       " ['Isaac Betesh', 1],\n",
       " ['Jack Dempsey', 1],\n",
       " ['Jakub Racek', 1],\n",
       " ['Jam Black', 2],\n",
       " ['Jamela Black', 2],\n",
       " ['James Adam', 1],\n",
       " ['Jared Grippe', 1],\n",
       " ['Jean van der Walt', 1],\n",
       " ['Jim Deville', 1],\n",
       " ['Joe Grossberg', 1],\n",
       " ['Johannes / universa1', 1],\n",
       " ['Johannes Faigle', 1],\n",
       " ['Johannes Gorset', 1],\n",
       " ['John Firebaugh', 2],\n",
       " ['John Schroeder', 2],\n",
       " ['John Voloski', 1],\n",
       " ['John Wulff', 2],\n",
       " ['Jon Moss', 1],\n",
       " ['Jon Rowe', 270],\n",
       " ['Jonathan Hyman', 1],\n",
       " ['Jonathan del Strother', 1],\n",
       " ['Jordan Goldstein', 1],\n",
       " ['Josh Justice', 3],\n",
       " ['Josh Kalderimis', 4],\n",
       " ['José Valim', 1],\n",
       " ['Juan González', 1],\n",
       " ['Jun Aruga', 1],\n",
       " ['Justin Ko', 70],\n",
       " ['Justin Reid', 1],\n",
       " ['Kevin Glowacz', 1],\n",
       " ['Kohei Hasegawa', 1],\n",
       " ['Koichi ITO', 1],\n",
       " ['Kosmas Chatzimichalis', 1],\n",
       " ['Laura Paakkinen', 1],\n",
       " ['Lewis Marshall', 1],\n",
       " ['Lucas Caton', 1],\n",
       " ['Lucas Mazza', 2],\n",
       " ['Marc G Gauthier', 1],\n",
       " ['Marc Weil', 4],\n",
       " ['Martin Svalin', 1],\n",
       " ['Matt Parker', 1],\n",
       " ['Matt Sanders', 1],\n",
       " ['Matthew Lineen', 1],\n",
       " [\"Megan O'Neill\", 1],\n",
       " ['Michael E. Gruen', 1],\n",
       " ['Michael Stock', 1],\n",
       " ['Mike Breen', 2],\n",
       " ['Mike MacDonald (crazymykl)', 1],\n",
       " ['Mike Moore', 2],\n",
       " ['Miklos Fazekas', 1],\n",
       " ['Myron Marston', 107],\n",
       " ['Nathan Broadbent', 2],\n",
       " ['Nikki Murray', 8],\n",
       " ['Olle Jonsson', 1],\n",
       " ['Orien Madgwick', 2],\n",
       " ['Paavo Leinonen', 2],\n",
       " ['Pascal Jungblut', 1],\n",
       " ['Pat Maddox', 1],\n",
       " ['Paul Annesley', 1],\n",
       " ['Peter Inglesby', 1],\n",
       " ['Peter Jaros', 1],\n",
       " ['Peter Rhoades', 1],\n",
       " ['Philippe Lafoucrière', 1],\n",
       " ['Puneet Goyal', 1],\n",
       " ['Rebecca Skinner', 1],\n",
       " ['René Föhring', 1],\n",
       " ['Rob', 1],\n",
       " ['Rodrigo Navarro', 1],\n",
       " ['Rodrigo Rosenfeld Rosas', 3],\n",
       " ['RustyNail', 1],\n",
       " ['Ryan Lue', 3],\n",
       " ['Salimane Adjao Moustapha', 1],\n",
       " ['Sam Phippen', 100],\n",
       " ['Scott Bronson', 1],\n",
       " ['Sergey Pchelintsev', 1],\n",
       " ['Shane Cavanaugh', 3],\n",
       " ['Simon Coffey', 2],\n",
       " ['Szijjártó-Nagy Misu', 1],\n",
       " ['Taiki ONO', 1],\n",
       " ['Takashi Nakagawa', 4],\n",
       " ['Tamir Duberstein', 1],\n",
       " ['Thaddee Tyl', 1],\n",
       " ['Thales Oliveira', 1],\n",
       " ['Thiago Almeida', 1],\n",
       " ['Thomas Billicsich', 1],\n",
       " ['Thomas Drake-Brockman', 4],\n",
       " ['Thomas Holmes', 1],\n",
       " ['Thomas Kriechbaumer', 1],\n",
       " ['Tim Watson', 1],\n",
       " ['Tom Chen', 1],\n",
       " ['Tom Scott', 5],\n",
       " ['Tony Ta', 2],\n",
       " ['Vladimir Strakhov', 1],\n",
       " ['Vít Ondruch', 1],\n",
       " ['Will Farrington', 1],\n",
       " ['Wojciech Wnętrzak', 9],\n",
       " ['Xavier Shay', 17],\n",
       " ['Yuji Nakayama', 18],\n",
       " ['aceofbassgreg', 1],\n",
       " ['britnia', 3],\n",
       " ['itzki', 1],\n",
       " ['jkusar', 2],\n",
       " ['joker1007', 1],\n",
       " ['jwow313', 1],\n",
       " ['nikolalsvk', 1],\n",
       " ['pavel', 1],\n",
       " ['pjambet', 1],\n",
       " ['takiy33', 1],\n",
       " ['vanstee', 1],\n",
       " ['vfrride', 2],\n",
       " ['wycats', 4],\n",
       " ['yui-knk', 2],\n",
       " ['Ægir Örn Símonarson', 1]]"
      ]
     },
     "execution_count": 90,
     "metadata": {},
     "output_type": "execute_result"
    }
   ],
   "source": [
    "commit_count"
   ]
  },
  {
   "cell_type": "code",
   "execution_count": 91,
   "metadata": {},
   "outputs": [
    {
     "data": {
      "text/plain": [
       "[['Aaron Blew', 1],\n",
       " ['Aaron Kromer', 108],\n",
       " ['Abdelkader Boudih', 2],\n",
       " ['Al Snow', 1],\n",
       " ['Alan Shields', 2],\n",
       " ['Alex Egan', 1],\n",
       " ['Alex Rothenberg', 4],\n",
       " ['Alyssa Ross', 1],\n",
       " ['Andre Arko', 1],\n",
       " ['Andreas Neuhaus', 2],\n",
       " ['Andrew White', 3],\n",
       " ['Andrew Wilcox', 1],\n",
       " ['André Arko', 1],\n",
       " ['Andy Lindeman', 114],\n",
       " ['Andy Morris', 1],\n",
       " ['Anthony Dmitriyev', 1],\n",
       " ['Anton Davydov', 1],\n",
       " ['Ara Hacopian', 1],\n",
       " ['Benjamin Quorning', 5],\n",
       " ['Benoit Tigeot', 1],\n",
       " ['Billy', 4],\n",
       " ['Bradley Schaefer', 5],\n",
       " ['Brent J. Nordquist', 1],\n",
       " ['Brian Fontenot', 3],\n",
       " ['Bryan Ricker', 1],\n",
       " ['Carlhuda', 1],\n",
       " ['Christof', 1],\n",
       " ['Darryl Pogue', 1],\n",
       " ['DarthSim', 2],\n",
       " ['Dave Woodall', 1],\n",
       " ['David Chelimsky', 359],\n",
       " ['David Chelimsky and Josh Graham', 1],\n",
       " ['David Rodríguez', 3],\n",
       " ['Diego Carrion', 1],\n",
       " ['Diego Plentz', 3],\n",
       " ['Diogo Benicá', 1],\n",
       " ['Douglas Lovell', 1],\n",
       " ['Eliot Sykes', 1],\n",
       " ['Erik Michaels-Ober', 2],\n",
       " ['Franklin Webber', 1],\n",
       " ['Gabe Martin-Dempesy', 2],\n",
       " ['Giovanni Cappellotto', 2],\n",
       " ['Griffin Smith', 2],\n",
       " ['Iain Hecker', 1],\n",
       " ['Igor Afonov', 1],\n",
       " ['Jack Dempsey', 1],\n",
       " ['Jamela Black', 1],\n",
       " ['Jared Grippe', 1],\n",
       " ['Jim Deville', 1],\n",
       " ['Joe Fiorini', 1],\n",
       " ['Johan Kiviniemi', 1],\n",
       " ['Johannes Gorset', 1],\n",
       " ['John Firebaugh', 2],\n",
       " ['John Meehan', 1],\n",
       " ['John Schroeder', 1],\n",
       " ['John Wulff', 1],\n",
       " ['Jon Moss', 1],\n",
       " ['Jon Rowe', 57],\n",
       " ['Jonas Nicklas', 1],\n",
       " ['Jonathan del Strother', 1],\n",
       " ['Jordan Goldstein', 1],\n",
       " ['Josh Justice', 1],\n",
       " ['Josh Kalderimis', 2],\n",
       " ['Justin Ko', 14],\n",
       " ['K Gautam Pai', 1],\n",
       " ['Kevin Glowacz', 1],\n",
       " ['Kristian Mandrup', 1],\n",
       " ['Krzysztof Zych', 1],\n",
       " ['Lailson Bandeira', 1],\n",
       " ['Laurent Cobos', 1],\n",
       " ['Lenny Marks', 1],\n",
       " ['Lucas Mazza', 1],\n",
       " ['Luke Rollans', 1],\n",
       " ['Marc Weil', 2],\n",
       " ['Mark Dimas', 1],\n",
       " ['Mark Turner', 1],\n",
       " ['Markus Schwed', 1],\n",
       " ['Martin Svalin', 1],\n",
       " ['Matt Brictson', 1],\n",
       " ['Matt Parker', 1],\n",
       " ['Matt Remsik and Ethan Gunderson', 1],\n",
       " ['Matt Yoho', 1],\n",
       " ['Matthew Lineen', 1],\n",
       " ['Michael Stock', 1],\n",
       " ['Mike Butsko', 1],\n",
       " ['Mike Gehard', 1],\n",
       " ['Mike Moore', 1],\n",
       " ['Myron Marston', 36],\n",
       " ['Nathan Broadbent', 2],\n",
       " ['Nestor Ovroy', 1],\n",
       " ['Nikki Murray', 2],\n",
       " ['Olle Jonsson', 1],\n",
       " ['Paavo Leinonen', 2],\n",
       " ['Pascal Jungblut', 1],\n",
       " ['Pat Maddox', 1],\n",
       " ['Paul Rosania', 1],\n",
       " ['Paulo Luis Franchini Casaretto', 1],\n",
       " ['Peter Jaros', 1],\n",
       " ['Peter Rhoades', 1],\n",
       " ['Philippe Lafoucrière', 1],\n",
       " ['Puneet Goyal', 1],\n",
       " ['Randy Schmidt', 1],\n",
       " ['Reza Primardiansyah', 1],\n",
       " ['Rodrigo Navarro', 1],\n",
       " ['Rodrigo Rosenfeld Rosas', 2],\n",
       " ['Rudolf Schmidt', 1],\n",
       " ['Russell Garner', 1],\n",
       " ['Ryan Clark', 1],\n",
       " ['Salimane Adjao Moustapha', 1],\n",
       " ['Sam Phippen', 26],\n",
       " ['Scott Bronson', 1],\n",
       " ['Shin-ichiro OGAWA', 1],\n",
       " ['Simon Coffey', 1],\n",
       " ['Steve Sloan', 1],\n",
       " ['Taiki ONO', 1],\n",
       " ['Takashi Nakagawa', 2],\n",
       " ['Thiago Almeida', 1],\n",
       " ['Thomas Drake-Brockman', 1],\n",
       " ['Thomas Holmes', 3],\n",
       " ['Tim Connor', 1],\n",
       " ['Tim McEwan', 1],\n",
       " ['Tom Scott', 2],\n",
       " ['Will Farrington', 1],\n",
       " ['Wincent Colaiuta', 6],\n",
       " ['Wojciech Wnętrzak', 9],\n",
       " ['Woody Peterson', 1],\n",
       " ['Xavier Shay', 11],\n",
       " ['Yi Wen', 1],\n",
       " ['Yoshihiro Ashida', 1],\n",
       " ['Yuji Nakayama', 7],\n",
       " ['hasimo', 1],\n",
       " ['jkusar', 2],\n",
       " ['joker1007', 1],\n",
       " ['justinko', 11],\n",
       " ['jwow313', 1],\n",
       " ['oh_rusty_nail', 1],\n",
       " ['pjambet', 1],\n",
       " ['vanstee', 4],\n",
       " ['vfrride', 1]]"
      ]
     },
     "execution_count": 91,
     "metadata": {},
     "output_type": "execute_result"
    }
   ],
   "source": [
    "defect_count"
   ]
  },
  {
   "cell_type": "code",
   "execution_count": 83,
   "metadata": {
    "collapsed": true
   },
   "outputs": [],
   "source": []
  },
  {
   "cell_type": "code",
   "execution_count": 85,
   "metadata": {
    "collapsed": true
   },
   "outputs": [],
   "source": []
  },
  {
   "cell_type": "code",
   "execution_count": null,
   "metadata": {
    "collapsed": true
   },
   "outputs": [],
   "source": []
  }
 ],
 "metadata": {
  "kernelspec": {
   "display_name": "Python 3",
   "language": "python",
   "name": "python3"
  },
  "language_info": {
   "codemirror_mode": {
    "name": "ipython",
    "version": 3
   },
   "file_extension": ".py",
   "mimetype": "text/x-python",
   "name": "python",
   "nbconvert_exporter": "python",
   "pygments_lexer": "ipython3",
   "version": "3.6.1"
  }
 },
 "nbformat": 4,
 "nbformat_minor": 2
}
