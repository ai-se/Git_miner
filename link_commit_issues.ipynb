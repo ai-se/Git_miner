{
 "cells": [
  {
   "cell_type": "code",
   "execution_count": 1,
   "metadata": {
    "collapsed": true
   },
   "outputs": [],
   "source": [
    "import git_access\n",
    "import json\n",
    "from __future__ import division\n",
    "import pandas as pd\n",
    "import numpy as np\n",
    "import matplotlib.pyplot as plt\n",
    "import math\n",
    "import re"
   ]
  },
  {
   "cell_type": "code",
   "execution_count": 2,
   "metadata": {},
   "outputs": [
    {
     "name": "stdout",
     "output_type": "stream",
     "text": [
      "http://api.github.com/repos/rspec/rspec-rails/issues?state=all&page=1&per_page=100\n",
      "http://api.github.com/repos/rspec/rspec-rails/issues?state=all&page=2&per_page=100\n",
      "http://api.github.com/repos/rspec/rspec-rails/issues?state=all&page=3&per_page=100\n",
      "http://api.github.com/repos/rspec/rspec-rails/issues?state=all&page=4&per_page=100\n",
      "http://api.github.com/repos/rspec/rspec-rails/issues?state=all&page=5&per_page=100\n",
      "http://api.github.com/repos/rspec/rspec-rails/issues?state=all&page=6&per_page=100\n",
      "http://api.github.com/repos/rspec/rspec-rails/issues?state=all&page=7&per_page=100\n",
      "http://api.github.com/repos/rspec/rspec-rails/issues?state=all&page=8&per_page=100\n",
      "http://api.github.com/repos/rspec/rspec-rails/issues?state=all&page=9&per_page=100\n",
      "http://api.github.com/repos/rspec/rspec-rails/issues?state=all&page=10&per_page=100\n",
      "http://api.github.com/repos/rspec/rspec-rails/issues?state=all&page=11&per_page=100\n",
      "http://api.github.com/repos/rspec/rspec-rails/issues?state=all&page=12&per_page=100\n",
      "http://api.github.com/repos/rspec/rspec-rails/issues?state=all&page=13&per_page=100\n",
      "http://api.github.com/repos/rspec/rspec-rails/issues?state=all&page=14&per_page=100\n",
      "http://api.github.com/repos/rspec/rspec-rails/issues?state=all&page=15&per_page=100\n",
      "http://api.github.com/repos/rspec/rspec-rails/issues?state=all&page=16&per_page=100\n",
      "http://api.github.com/repos/rspec/rspec-rails/issues?state=all&page=17&per_page=100\n",
      "http://api.github.com/repos/rspec/rspec-rails/issues?state=all&page=18&per_page=100\n",
      "http://api.github.com/repos/rspec/rspec-rails/issues?state=all&page=19&per_page=100\n",
      "http://api.github.com/repos/rspec/rspec-rails/issues?state=all&page=20&per_page=100\n",
      "http://api.github.com/repos/rspec/rspec-rails/issues?state=all&page=21&per_page=100\n"
     ]
    }
   ],
   "source": [
    "access_token = '**'\n",
    "repo_owner = 'rspec'\n",
    "source_type = 'github_repo'\n",
    "git_url = 'git://github.com/rspec/rspec-rails.git'\n",
    "api_base_url = 'http://api.github.com'\n",
    "repo_name = 'rspec-rails'\n",
    "url_type = 'issues'\n",
    "url_details = 'comments'\n",
    "client = git_access.GitHubClient({'access_token': access_token,\n",
    "                       'repo_owner': repo_owner, \n",
    "                       'source_type': source_type, \n",
    "                       'git_url': git_url, \n",
    "                       'api_base_url': api_base_url, \n",
    "                       'repo_name': repo_name}) \n",
    "base_url = api_base_url + '/repos/' + repo_owner + '/' + repo_name + '/' + url_type\n",
    "x = [0]*100\n",
    "check = 1\n",
    "page_number = 1\n",
    "issue_details = []\n",
    "while len(x) >= 100:\n",
    "    check -= 1\n",
    "    paged_url = base_url + '?state=' + 'all' + '&page=' + str(page_number) + '&per_page=100'\n",
    "    page_number += 1\n",
    "    print(paged_url)\n",
    "    res = client.get(paged_url)\n",
    "    x = json.loads(res.content)\n",
    "    for i in range(len(x)):\n",
    "        issue_number = x[i]['number']\n",
    "        desc = x[i]['body']\n",
    "        title = x[i]['title']\n",
    "        issue_details.append([issue_number,desc,title])"
   ]
  },
  {
   "cell_type": "code",
   "execution_count": 3,
   "metadata": {},
   "outputs": [
    {
     "name": "stdout",
     "output_type": "stream",
     "text": [
      "http://api.github.com/repos/rspec/rspec-rails/commits?state=all&page=1&per_page=100\n",
      "http://api.github.com/repos/rspec/rspec-rails/commits?state=all&page=2&per_page=100\n",
      "http://api.github.com/repos/rspec/rspec-rails/commits?state=all&page=3&per_page=100\n",
      "http://api.github.com/repos/rspec/rspec-rails/commits?state=all&page=4&per_page=100\n",
      "http://api.github.com/repos/rspec/rspec-rails/commits?state=all&page=5&per_page=100\n",
      "http://api.github.com/repos/rspec/rspec-rails/commits?state=all&page=6&per_page=100\n",
      "http://api.github.com/repos/rspec/rspec-rails/commits?state=all&page=7&per_page=100\n",
      "http://api.github.com/repos/rspec/rspec-rails/commits?state=all&page=8&per_page=100\n",
      "http://api.github.com/repos/rspec/rspec-rails/commits?state=all&page=9&per_page=100\n",
      "http://api.github.com/repos/rspec/rspec-rails/commits?state=all&page=10&per_page=100\n",
      "http://api.github.com/repos/rspec/rspec-rails/commits?state=all&page=11&per_page=100\n",
      "http://api.github.com/repos/rspec/rspec-rails/commits?state=all&page=12&per_page=100\n",
      "http://api.github.com/repos/rspec/rspec-rails/commits?state=all&page=13&per_page=100\n",
      "http://api.github.com/repos/rspec/rspec-rails/commits?state=all&page=14&per_page=100\n",
      "http://api.github.com/repos/rspec/rspec-rails/commits?state=all&page=15&per_page=100\n",
      "http://api.github.com/repos/rspec/rspec-rails/commits?state=all&page=16&per_page=100\n",
      "http://api.github.com/repos/rspec/rspec-rails/commits?state=all&page=17&per_page=100\n",
      "http://api.github.com/repos/rspec/rspec-rails/commits?state=all&page=18&per_page=100\n",
      "http://api.github.com/repos/rspec/rspec-rails/commits?state=all&page=19&per_page=100\n",
      "http://api.github.com/repos/rspec/rspec-rails/commits?state=all&page=20&per_page=100\n",
      "http://api.github.com/repos/rspec/rspec-rails/commits?state=all&page=21&per_page=100\n",
      "http://api.github.com/repos/rspec/rspec-rails/commits?state=all&page=22&per_page=100\n",
      "http://api.github.com/repos/rspec/rspec-rails/commits?state=all&page=23&per_page=100\n",
      "http://api.github.com/repos/rspec/rspec-rails/commits?state=all&page=24&per_page=100\n",
      "http://api.github.com/repos/rspec/rspec-rails/commits?state=all&page=25&per_page=100\n",
      "http://api.github.com/repos/rspec/rspec-rails/commits?state=all&page=26&per_page=100\n",
      "http://api.github.com/repos/rspec/rspec-rails/commits?state=all&page=27&per_page=100\n"
     ]
    }
   ],
   "source": [
    "url_type = 'commits'\n",
    "base_url = api_base_url + '/repos/' + repo_owner + '/' + repo_name + '/' + url_type\n",
    "x = [0]*100\n",
    "check = 1\n",
    "page_number = 1\n",
    "commit_details = []\n",
    "while len(x) >= 100:\n",
    "    check -= 1\n",
    "    paged_url = base_url + '?state=' + 'all' + '&page=' + str(page_number) + '&per_page=100'\n",
    "    page_number += 1\n",
    "    print(paged_url)\n",
    "    res = client.get(paged_url)\n",
    "    x = json.loads(res.content)\n",
    "    for i in range(len(x)):\n",
    "        commit_number = x[i]['url'][len(base_url)+2:]\n",
    "        message = x[i]['commit']['message']\n",
    "        if len(x[i]['parents']) > 0:\n",
    "            parent = x[i]['parents'][0]['url'][len(base_url)+2:]\n",
    "        else:\n",
    "            parent = ''\n",
    "        commit_details.append([commit_number,message,parent])"
   ]
  },
  {
   "cell_type": "code",
   "execution_count": 5,
   "metadata": {},
   "outputs": [
    {
     "name": "stdout",
     "output_type": "stream",
     "text": [
      "http://api.github.com/repos/rspec/rspec-rails/issues/events?state=all&page=1&per_page=100\n",
      "http://api.github.com/repos/rspec/rspec-rails/issues/events?state=all&page=2&per_page=100\n",
      "http://api.github.com/repos/rspec/rspec-rails/issues/events?state=all&page=3&per_page=100\n",
      "http://api.github.com/repos/rspec/rspec-rails/issues/events?state=all&page=4&per_page=100\n",
      "http://api.github.com/repos/rspec/rspec-rails/issues/events?state=all&page=5&per_page=100\n",
      "http://api.github.com/repos/rspec/rspec-rails/issues/events?state=all&page=6&per_page=100\n",
      "http://api.github.com/repos/rspec/rspec-rails/issues/events?state=all&page=7&per_page=100\n",
      "http://api.github.com/repos/rspec/rspec-rails/issues/events?state=all&page=8&per_page=100\n",
      "http://api.github.com/repos/rspec/rspec-rails/issues/events?state=all&page=9&per_page=100\n",
      "http://api.github.com/repos/rspec/rspec-rails/issues/events?state=all&page=10&per_page=100\n",
      "http://api.github.com/repos/rspec/rspec-rails/issues/events?state=all&page=11&per_page=100\n",
      "http://api.github.com/repos/rspec/rspec-rails/issues/events?state=all&page=12&per_page=100\n",
      "http://api.github.com/repos/rspec/rspec-rails/issues/events?state=all&page=13&per_page=100\n",
      "http://api.github.com/repos/rspec/rspec-rails/issues/events?state=all&page=14&per_page=100\n",
      "http://api.github.com/repos/rspec/rspec-rails/issues/events?state=all&page=15&per_page=100\n",
      "http://api.github.com/repos/rspec/rspec-rails/issues/events?state=all&page=16&per_page=100\n",
      "http://api.github.com/repos/rspec/rspec-rails/issues/events?state=all&page=17&per_page=100\n",
      "http://api.github.com/repos/rspec/rspec-rails/issues/events?state=all&page=18&per_page=100\n",
      "http://api.github.com/repos/rspec/rspec-rails/issues/events?state=all&page=19&per_page=100\n",
      "http://api.github.com/repos/rspec/rspec-rails/issues/events?state=all&page=20&per_page=100\n",
      "http://api.github.com/repos/rspec/rspec-rails/issues/events?state=all&page=21&per_page=100\n",
      "http://api.github.com/repos/rspec/rspec-rails/issues/events?state=all&page=22&per_page=100\n",
      "http://api.github.com/repos/rspec/rspec-rails/issues/events?state=all&page=23&per_page=100\n",
      "http://api.github.com/repos/rspec/rspec-rails/issues/events?state=all&page=24&per_page=100\n",
      "http://api.github.com/repos/rspec/rspec-rails/issues/events?state=all&page=25&per_page=100\n",
      "http://api.github.com/repos/rspec/rspec-rails/issues/events?state=all&page=26&per_page=100\n",
      "http://api.github.com/repos/rspec/rspec-rails/issues/events?state=all&page=27&per_page=100\n",
      "http://api.github.com/repos/rspec/rspec-rails/issues/events?state=all&page=28&per_page=100\n",
      "http://api.github.com/repos/rspec/rspec-rails/issues/events?state=all&page=29&per_page=100\n",
      "http://api.github.com/repos/rspec/rspec-rails/issues/events?state=all&page=30&per_page=100\n",
      "http://api.github.com/repos/rspec/rspec-rails/issues/events?state=all&page=31&per_page=100\n",
      "http://api.github.com/repos/rspec/rspec-rails/issues/events?state=all&page=32&per_page=100\n",
      "http://api.github.com/repos/rspec/rspec-rails/issues/events?state=all&page=33&per_page=100\n",
      "http://api.github.com/repos/rspec/rspec-rails/issues/events?state=all&page=34&per_page=100\n",
      "http://api.github.com/repos/rspec/rspec-rails/issues/events?state=all&page=35&per_page=100\n",
      "http://api.github.com/repos/rspec/rspec-rails/issues/events?state=all&page=36&per_page=100\n",
      "http://api.github.com/repos/rspec/rspec-rails/issues/events?state=all&page=37&per_page=100\n",
      "http://api.github.com/repos/rspec/rspec-rails/issues/events?state=all&page=38&per_page=100\n",
      "http://api.github.com/repos/rspec/rspec-rails/issues/events?state=all&page=39&per_page=100\n",
      "http://api.github.com/repos/rspec/rspec-rails/issues/events?state=all&page=40&per_page=100\n",
      "http://api.github.com/repos/rspec/rspec-rails/issues/events?state=all&page=41&per_page=100\n",
      "http://api.github.com/repos/rspec/rspec-rails/issues/events?state=all&page=42&per_page=100\n",
      "http://api.github.com/repos/rspec/rspec-rails/issues/events?state=all&page=43&per_page=100\n",
      "http://api.github.com/repos/rspec/rspec-rails/issues/events?state=all&page=44&per_page=100\n",
      "http://api.github.com/repos/rspec/rspec-rails/issues/events?state=all&page=45&per_page=100\n",
      "http://api.github.com/repos/rspec/rspec-rails/issues/events?state=all&page=46&per_page=100\n",
      "http://api.github.com/repos/rspec/rspec-rails/issues/events?state=all&page=47&per_page=100\n",
      "http://api.github.com/repos/rspec/rspec-rails/issues/events?state=all&page=48&per_page=100\n",
      "http://api.github.com/repos/rspec/rspec-rails/issues/events?state=all&page=49&per_page=100\n",
      "http://api.github.com/repos/rspec/rspec-rails/issues/events?state=all&page=50&per_page=100\n",
      "http://api.github.com/repos/rspec/rspec-rails/issues/events?state=all&page=51&per_page=100\n",
      "http://api.github.com/repos/rspec/rspec-rails/issues/events?state=all&page=52&per_page=100\n",
      "http://api.github.com/repos/rspec/rspec-rails/issues/events?state=all&page=53&per_page=100\n",
      "http://api.github.com/repos/rspec/rspec-rails/issues/events?state=all&page=54&per_page=100\n",
      "http://api.github.com/repos/rspec/rspec-rails/issues/events?state=all&page=55&per_page=100\n",
      "http://api.github.com/repos/rspec/rspec-rails/issues/events?state=all&page=56&per_page=100\n",
      "http://api.github.com/repos/rspec/rspec-rails/issues/events?state=all&page=57&per_page=100\n",
      "http://api.github.com/repos/rspec/rspec-rails/issues/events?state=all&page=58&per_page=100\n",
      "http://api.github.com/repos/rspec/rspec-rails/issues/events?state=all&page=59&per_page=100\n",
      "http://api.github.com/repos/rspec/rspec-rails/issues/events?state=all&page=60&per_page=100\n",
      "http://api.github.com/repos/rspec/rspec-rails/issues/events?state=all&page=61&per_page=100\n",
      "http://api.github.com/repos/rspec/rspec-rails/issues/events?state=all&page=62&per_page=100\n",
      "http://api.github.com/repos/rspec/rspec-rails/issues/events?state=all&page=63&per_page=100\n",
      "http://api.github.com/repos/rspec/rspec-rails/issues/events?state=all&page=64&per_page=100\n",
      "http://api.github.com/repos/rspec/rspec-rails/issues/events?state=all&page=65&per_page=100\n",
      "http://api.github.com/repos/rspec/rspec-rails/issues/events?state=all&page=66&per_page=100\n",
      "http://api.github.com/repos/rspec/rspec-rails/issues/events?state=all&page=67&per_page=100\n",
      "http://api.github.com/repos/rspec/rspec-rails/issues/events?state=all&page=68&per_page=100\n",
      "http://api.github.com/repos/rspec/rspec-rails/issues/events?state=all&page=69&per_page=100\n",
      "http://api.github.com/repos/rspec/rspec-rails/issues/events?state=all&page=70&per_page=100\n",
      "http://api.github.com/repos/rspec/rspec-rails/issues/events?state=all&page=71&per_page=100\n",
      "http://api.github.com/repos/rspec/rspec-rails/issues/events?state=all&page=72&per_page=100\n",
      "http://api.github.com/repos/rspec/rspec-rails/issues/events?state=all&page=73&per_page=100\n",
      "http://api.github.com/repos/rspec/rspec-rails/issues/events?state=all&page=74&per_page=100\n",
      "http://api.github.com/repos/rspec/rspec-rails/issues/events?state=all&page=75&per_page=100\n",
      "http://api.github.com/repos/rspec/rspec-rails/issues/events?state=all&page=76&per_page=100\n",
      "http://api.github.com/repos/rspec/rspec-rails/issues/events?state=all&page=77&per_page=100\n",
      "http://api.github.com/repos/rspec/rspec-rails/issues/events?state=all&page=78&per_page=100\n",
      "http://api.github.com/repos/rspec/rspec-rails/issues/events?state=all&page=79&per_page=100\n",
      "http://api.github.com/repos/rspec/rspec-rails/issues/events?state=all&page=80&per_page=100\n",
      "http://api.github.com/repos/rspec/rspec-rails/issues/events?state=all&page=81&per_page=100\n",
      "http://api.github.com/repos/rspec/rspec-rails/issues/events?state=all&page=82&per_page=100\n",
      "http://api.github.com/repos/rspec/rspec-rails/issues/events?state=all&page=83&per_page=100\n",
      "http://api.github.com/repos/rspec/rspec-rails/issues/events?state=all&page=84&per_page=100\n",
      "http://api.github.com/repos/rspec/rspec-rails/issues/events?state=all&page=85&per_page=100\n",
      "http://api.github.com/repos/rspec/rspec-rails/issues/events?state=all&page=86&per_page=100\n",
      "http://api.github.com/repos/rspec/rspec-rails/issues/events?state=all&page=87&per_page=100\n",
      "http://api.github.com/repos/rspec/rspec-rails/issues/events?state=all&page=88&per_page=100\n",
      "http://api.github.com/repos/rspec/rspec-rails/issues/events?state=all&page=89&per_page=100\n",
      "http://api.github.com/repos/rspec/rspec-rails/issues/events?state=all&page=90&per_page=100\n",
      "http://api.github.com/repos/rspec/rspec-rails/issues/events?state=all&page=91&per_page=100\n"
     ]
    },
    {
     "name": "stdout",
     "output_type": "stream",
     "text": [
      "http://api.github.com/repos/rspec/rspec-rails/issues/events?state=all&page=92&per_page=100\n",
      "http://api.github.com/repos/rspec/rspec-rails/issues/events?state=all&page=93&per_page=100\n",
      "http://api.github.com/repos/rspec/rspec-rails/issues/events?state=all&page=94&per_page=100\n",
      "http://api.github.com/repos/rspec/rspec-rails/issues/events?state=all&page=95&per_page=100\n",
      "http://api.github.com/repos/rspec/rspec-rails/issues/events?state=all&page=96&per_page=100\n",
      "http://api.github.com/repos/rspec/rspec-rails/issues/events?state=all&page=97&per_page=100\n",
      "http://api.github.com/repos/rspec/rspec-rails/issues/events?state=all&page=98&per_page=100\n",
      "http://api.github.com/repos/rspec/rspec-rails/issues/events?state=all&page=99&per_page=100\n",
      "http://api.github.com/repos/rspec/rspec-rails/issues/events?state=all&page=100&per_page=100\n",
      "http://api.github.com/repos/rspec/rspec-rails/issues/events?state=all&page=101&per_page=100\n",
      "http://api.github.com/repos/rspec/rspec-rails/issues/events?state=all&page=102&per_page=100\n",
      "http://api.github.com/repos/rspec/rspec-rails/issues/events?state=all&page=103&per_page=100\n",
      "http://api.github.com/repos/rspec/rspec-rails/issues/events?state=all&page=104&per_page=100\n",
      "http://api.github.com/repos/rspec/rspec-rails/issues/events?state=all&page=105&per_page=100\n",
      "http://api.github.com/repos/rspec/rspec-rails/issues/events?state=all&page=106&per_page=100\n",
      "http://api.github.com/repos/rspec/rspec-rails/issues/events?state=all&page=107&per_page=100\n",
      "http://api.github.com/repos/rspec/rspec-rails/issues/events?state=all&page=108&per_page=100\n",
      "http://api.github.com/repos/rspec/rspec-rails/issues/events?state=all&page=109&per_page=100\n",
      "http://api.github.com/repos/rspec/rspec-rails/issues/events?state=all&page=110&per_page=100\n",
      "http://api.github.com/repos/rspec/rspec-rails/issues/events?state=all&page=111&per_page=100\n",
      "http://api.github.com/repos/rspec/rspec-rails/issues/events?state=all&page=112&per_page=100\n",
      "http://api.github.com/repos/rspec/rspec-rails/issues/events?state=all&page=113&per_page=100\n",
      "http://api.github.com/repos/rspec/rspec-rails/issues/events?state=all&page=114&per_page=100\n",
      "http://api.github.com/repos/rspec/rspec-rails/issues/events?state=all&page=115&per_page=100\n",
      "http://api.github.com/repos/rspec/rspec-rails/issues/events?state=all&page=116&per_page=100\n",
      "http://api.github.com/repos/rspec/rspec-rails/issues/events?state=all&page=117&per_page=100\n",
      "http://api.github.com/repos/rspec/rspec-rails/issues/events?state=all&page=118&per_page=100\n",
      "http://api.github.com/repos/rspec/rspec-rails/issues/events?state=all&page=119&per_page=100\n",
      "http://api.github.com/repos/rspec/rspec-rails/issues/events?state=all&page=120&per_page=100\n",
      "http://api.github.com/repos/rspec/rspec-rails/issues/events?state=all&page=121&per_page=100\n"
     ]
    }
   ],
   "source": [
    "url_type = 'issues'\n",
    "url_details = 'events'\n",
    "base_url = api_base_url + '/repos/' + repo_owner + '/' + repo_name + '/' + url_type\n",
    "advanced_url = base_url + '/' + url_details\n",
    "x = [0]*100\n",
    "check = 1\n",
    "page_number = 1\n",
    "event_details = []\n",
    "while len(x) >= 100:\n",
    "    check -= 1\n",
    "    paged_url = advanced_url + '?state=' + 'all' + '&page=' + str(page_number) + '&per_page=100'\n",
    "    page_number += 1\n",
    "    print(paged_url)\n",
    "    res = client.get(paged_url)\n",
    "    x = json.loads(res.content)\n",
    "    for i in range(len(x)):\n",
    "        event_type = x[i]['event']\n",
    "        issue_number = x[i]['issue']['number']\n",
    "        commit_number = x[i]['commit_id']\n",
    "        event_details.append([event_type,issue_number,commit_number])"
   ]
  },
  {
   "cell_type": "code",
   "execution_count": 6,
   "metadata": {
    "collapsed": true
   },
   "outputs": [],
   "source": [
    "issue_df = pd.DataFrame(issue_details, columns = ['Issue_number','Desc','title'])\n",
    "commit_df = pd.DataFrame(commit_details, columns=['commit_number', 'message', 'parent'])\n",
    "events_df = pd.DataFrame(event_details, columns=['event_type', 'issue_number', 'commit_number'])"
   ]
  },
  {
   "cell_type": "code",
   "execution_count": 34,
   "metadata": {
    "collapsed": true
   },
   "outputs": [],
   "source": [
    "issue_commit_dict = {}\n",
    "for i in range(commit_df.shape[0]):\n",
    "    _commit_number = commit_df.loc[i,'commit_number']\n",
    "    _commit_message = commit_df.loc[i,'message']\n",
    "    _commit_parent = commit_df.loc[i,'parent']\n",
    "    res = re.search(\"#[0-9]+$\", _commit_message)\n",
    "    if res is not None:\n",
    "        _issue_id = res.group(0)[1:]\n",
    "        issue_commit_dict[_commit_number] = _issue_id"
   ]
  },
  {
   "cell_type": "code",
   "execution_count": 35,
   "metadata": {
    "collapsed": true
   },
   "outputs": [],
   "source": [
    "links = events_df.dropna()\n",
    "links.reset_index(inplace=True)"
   ]
  },
  {
   "cell_type": "code",
   "execution_count": 36,
   "metadata": {
    "collapsed": true
   },
   "outputs": [],
   "source": [
    "for i in range(links.shape[0]):\n",
    "    if links.loc[i,'commit_number'] in issue_commit_dict.keys():\n",
    "        continue\n",
    "    else:\n",
    "        issue_commit_dict[links.loc[i,'commit_number']] = links.loc[i,'issue_number']"
   ]
  },
  {
   "cell_type": "code",
   "execution_count": null,
   "metadata": {
    "collapsed": true
   },
   "outputs": [],
   "source": []
  },
  {
   "cell_type": "code",
   "execution_count": null,
   "metadata": {
    "collapsed": true
   },
   "outputs": [],
   "source": []
  }
 ],
 "metadata": {
  "kernelspec": {
   "display_name": "Python 3",
   "language": "python",
   "name": "python3"
  },
  "language_info": {
   "codemirror_mode": {
    "name": "ipython",
    "version": 3
   },
   "file_extension": ".py",
   "mimetype": "text/x-python",
   "name": "python",
   "nbconvert_exporter": "python",
   "pygments_lexer": "ipython3",
   "version": "3.6.1"
  }
 },
 "nbformat": 4,
 "nbformat_minor": 2
}
