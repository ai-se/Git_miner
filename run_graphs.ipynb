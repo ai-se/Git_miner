{
 "cells": [
  {
   "cell_type": "code",
   "execution_count": 1,
   "metadata": {
    "collapsed": true
   },
   "outputs": [],
   "source": [
    "import social_interaction\n",
    "import code_interaction\n",
    "import buggy_commit\n",
    "import pandas as pd\n",
    "import numpy as np\n",
    "repo_url = 'git://github.com/rspec/rspec-rails.git'\n",
    "repo_name = 'rspec-rails'"
   ]
  },
  {
   "cell_type": "code",
   "execution_count": 2,
   "metadata": {},
   "outputs": [
    {
     "name": "stdout",
     "output_type": "stream",
     "text": [
      "73838\n",
      "73838\n"
     ]
    }
   ],
   "source": [
    "sg = social_interaction.create_social_inteaction_graph(repo_name)\n",
    "cg = code_interaction.create_code_interaction_graph(repo_url,repo_name)"
   ]
  },
  {
   "cell_type": "code",
   "execution_count": 3,
   "metadata": {},
   "outputs": [
    {
     "ename": "AttributeError",
     "evalue": "'NoneType' object has no attribute 'parents'",
     "output_type": "error",
     "traceback": [
      "\u001b[1;31m---------------------------------------------------------------------------\u001b[0m",
      "\u001b[1;31mAttributeError\u001b[0m                            Traceback (most recent call last)",
      "\u001b[1;32m<ipython-input-3-49cc10313607>\u001b[0m in \u001b[0;36m<module>\u001b[1;34m()\u001b[0m\n\u001b[0;32m      1\u001b[0m \u001b[0mbugs_data\u001b[0m \u001b[1;33m=\u001b[0m \u001b[0mbuggy_commit\u001b[0m\u001b[1;33m.\u001b[0m\u001b[0mbuggy_commit_maker\u001b[0m\u001b[1;33m(\u001b[0m\u001b[0mrepo_name\u001b[0m\u001b[1;33m,\u001b[0m\u001b[0mrepo_url\u001b[0m\u001b[1;33m,\u001b[0m\u001b[0mrepo_name\u001b[0m\u001b[1;33m)\u001b[0m\u001b[1;33m\u001b[0m\u001b[0m\n\u001b[0;32m      2\u001b[0m \u001b[0mbugs_data\u001b[0m\u001b[1;33m.\u001b[0m\u001b[0mget_buggy_commits\u001b[0m\u001b[1;33m(\u001b[0m\u001b[1;33m)\u001b[0m\u001b[1;33m\u001b[0m\u001b[0m\n\u001b[1;32m----> 3\u001b[1;33m \u001b[0mbuggy_commit_data\u001b[0m \u001b[1;33m=\u001b[0m \u001b[0mbugs_data\u001b[0m\u001b[1;33m.\u001b[0m\u001b[0mget_buggy_committer\u001b[0m\u001b[1;33m(\u001b[0m\u001b[1;33m)\u001b[0m\u001b[1;33m\u001b[0m\u001b[0m\n\u001b[0m",
      "\u001b[1;32mC:\\Users\\suvod\\AI4SE\\Git_miner\\buggy_commit.py\u001b[0m in \u001b[0;36mget_buggy_committer\u001b[1;34m(self)\u001b[0m\n\u001b[0;32m     53\u001b[0m     \u001b[1;32mdef\u001b[0m \u001b[0mget_buggy_committer\u001b[0m\u001b[1;33m(\u001b[0m\u001b[0mself\u001b[0m\u001b[1;33m)\u001b[0m\u001b[1;33m:\u001b[0m\u001b[1;33m\u001b[0m\u001b[0m\n\u001b[0;32m     54\u001b[0m         \u001b[0mbuggy_commit_df\u001b[0m \u001b[1;33m=\u001b[0m \u001b[0mself\u001b[0m\u001b[1;33m.\u001b[0m\u001b[0mcommit\u001b[0m\u001b[1;33m[\u001b[0m\u001b[0mself\u001b[0m\u001b[1;33m.\u001b[0m\u001b[0mcommit\u001b[0m\u001b[1;33m[\u001b[0m\u001b[1;34m'isBuggy'\u001b[0m\u001b[1;33m]\u001b[0m \u001b[1;33m==\u001b[0m \u001b[1;36m1\u001b[0m\u001b[1;33m]\u001b[0m\u001b[1;33m\u001b[0m\u001b[0m\n\u001b[1;32m---> 55\u001b[1;33m         \u001b[0mbuggy_diffs\u001b[0m \u001b[1;33m=\u001b[0m \u001b[0mself\u001b[0m\u001b[1;33m.\u001b[0m\u001b[0mgit_repo\u001b[0m\u001b[1;33m.\u001b[0m\u001b[0mget_diffs\u001b[0m\u001b[1;33m(\u001b[0m\u001b[0mbuggy_commit_df\u001b[0m\u001b[1;33m[\u001b[0m\u001b[1;34m'commit_number'\u001b[0m\u001b[1;33m]\u001b[0m\u001b[1;33m.\u001b[0m\u001b[0mvalues\u001b[0m\u001b[1;33m.\u001b[0m\u001b[0mtolist\u001b[0m\u001b[1;33m(\u001b[0m\u001b[1;33m)\u001b[0m\u001b[1;33m)\u001b[0m\u001b[1;33m\u001b[0m\u001b[0m\n\u001b[0m\u001b[0;32m     56\u001b[0m         \u001b[0mbug_creator\u001b[0m \u001b[1;33m=\u001b[0m \u001b[1;33m[\u001b[0m\u001b[1;33m]\u001b[0m\u001b[1;33m\u001b[0m\u001b[0m\n\u001b[0;32m     57\u001b[0m         \u001b[1;32mfor\u001b[0m \u001b[0mvalue\u001b[0m \u001b[1;32min\u001b[0m \u001b[0mbuggy_diffs\u001b[0m\u001b[1;33m:\u001b[0m\u001b[1;33m\u001b[0m\u001b[0m\n",
      "\u001b[1;32mC:\\Users\\suvod\\AI4SE\\Git_miner\\git2repo.py\u001b[0m in \u001b[0;36mget_diffs\u001b[1;34m(self, commits)\u001b[0m\n\u001b[0;32m    135\u001b[0m             \u001b[0mfiles\u001b[0m \u001b[1;33m=\u001b[0m \u001b[1;33m{\u001b[0m\u001b[1;33m}\u001b[0m\u001b[1;33m\u001b[0m\u001b[0m\n\u001b[0;32m    136\u001b[0m             \u001b[1;32mif\u001b[0m \u001b[0mlen\u001b[0m\u001b[1;33m(\u001b[0m\u001b[0mt0\u001b[0m\u001b[1;33m.\u001b[0m\u001b[0mparents\u001b[0m\u001b[1;33m)\u001b[0m \u001b[1;33m==\u001b[0m \u001b[1;36m0\u001b[0m\u001b[1;33m:\u001b[0m  \u001b[1;31m# need to handle this case where commit doesnot have a parent\u001b[0m\u001b[1;33m\u001b[0m\u001b[0m\n\u001b[1;32m--> 137\u001b[1;33m                 \u001b[1;32mcontinue\u001b[0m\u001b[1;33m\u001b[0m\u001b[0m\n\u001b[0m\u001b[0;32m    138\u001b[0m             \u001b[1;32mif\u001b[0m \u001b[0mi\u001b[0m \u001b[1;33m!=\u001b[0m \u001b[1;36m0\u001b[0m\u001b[1;33m:\u001b[0m\u001b[1;33m\u001b[0m\u001b[0m\n\u001b[0;32m    139\u001b[0m                 \u001b[0mt1\u001b[0m \u001b[1;33m=\u001b[0m \u001b[0mt0\u001b[0m\u001b[1;33m.\u001b[0m\u001b[0mparents\u001b[0m\u001b[1;33m[\u001b[0m\u001b[1;36m0\u001b[0m\u001b[1;33m]\u001b[0m\u001b[1;33m\u001b[0m\u001b[0m\n",
      "\u001b[1;31mAttributeError\u001b[0m: 'NoneType' object has no attribute 'parents'"
     ]
    }
   ],
   "source": [
    "bugs_data = buggy_commit.buggy_commit_maker(repo_name,repo_url,repo_name)\n",
    "bugs_data.get_buggy_commits()\n",
    "buggy_commit_data = bugs_data.get_buggy_committer()"
   ]
  },
  {
   "cell_type": "code",
   "execution_count": null,
   "metadata": {
    "collapsed": true
   },
   "outputs": [],
   "source": [
    "sg_data = sg.get_user_node_degree()\n",
    "cg_data = cg.get_user_node_degree()\n",
    "commit_data = bugs_data.get_commit_count()"
   ]
  },
  {
   "cell_type": "code",
   "execution_count": null,
   "metadata": {
    "collapsed": true
   },
   "outputs": [],
   "source": [
    "sg_data_list = []\n",
    "for key, value in sg_data.items():\n",
    "    temp = [key,value]\n",
    "    sg_data_list.append(temp)\n",
    "cg_data_list = []\n",
    "for key, value in cg_data.items():\n",
    "    temp = [key,value]\n",
    "    cg_data_list.append(temp)"
   ]
  },
  {
   "cell_type": "code",
   "execution_count": null,
   "metadata": {
    "collapsed": true
   },
   "outputs": [],
   "source": [
    "buggy_commit_data_df = pd.DataFrame(buggy_commit_data, columns = ['committer', 'count'])\n",
    "commit_data_df = pd.DataFrame(commit_data, columns = ['committer', 'count'])\n",
    "sg_data_df = pd.DataFrame(sg_data_list, columns = ['committer', 'count'])\n",
    "cg_data_df = pd.DataFrame(cg_data_list, columns = ['committer', 'count'])"
   ]
  },
  {
   "cell_type": "code",
   "execution_count": null,
   "metadata": {
    "collapsed": true
   },
   "outputs": [],
   "source": [
    "committer_count = []\n",
    "for i in range(bugs_data.commit.shape[0]):\n",
    "    commit_id = bugs_data.commit.loc[i,'commit_number']\n",
    "    user = bugs_data.repo.get(commit_id).committer\n",
    "    committer_count.append([user.name, commit_id, 1])\n",
    "committer_count_df = pd.DataFrame(committer_count, columns = ['committer', 'commit_id', 'ob'])\n",
    "#committer_count_df = committer_count_df.drop_duplicates()\n",
    "df = committer_count_df.groupby( ['committer']).count()\n",
    "commit_count = []\n",
    "for key,value in df.iterrows():\n",
    "    user = key\n",
    "    count = value.values.tolist()[0]\n",
    "    commit_count.append([user,count])"
   ]
  },
  {
   "cell_type": "code",
   "execution_count": null,
   "metadata": {
    "collapsed": true
   },
   "outputs": [],
   "source": [
    "committer_count"
   ]
  },
  {
   "cell_type": "code",
   "execution_count": null,
   "metadata": {
    "collapsed": true
   },
   "outputs": [],
   "source": [
    "df = []\n",
    "for i in range(cg_data_df.shape[0]):\n",
    "    print(\"+++++++++++\")\n",
    "    buggy_commit_count = buggy_commit_data_df[buggy_commit_data_df['committer'] == cg_data_df.loc[i,'committer']]['count']\n",
    "    print(buggy_commit_count)\n",
    "    if len(buggy_commit_count) == 0:\n",
    "        continue\n",
    "    commit_count = commit_data_df[commit_data_df['committer'] == cg_data_df.loc[i,'committer']]['count']\n",
    "    print(commit_count)\n",
    "    if len(commit_count) == 0:\n",
    "        continue\n",
    "    node_degree = cg_data_df[cg_data_df['committer'] == cg_data_df.loc[i,'committer']]['count']\n",
    "    df.append([buggy_commit_count.values[0]/commit_count.values[0],node_degree.values[0]])"
   ]
  },
  {
   "cell_type": "code",
   "execution_count": null,
   "metadata": {
    "collapsed": true
   },
   "outputs": [],
   "source": [
    "df = pd.DataFrame(df, columns = ['per','degree'])"
   ]
  },
  {
   "cell_type": "code",
   "execution_count": null,
   "metadata": {
    "collapsed": true
   },
   "outputs": [],
   "source": [
    "degree_d = np.array(df['degree'].values.tolist())"
   ]
  },
  {
   "cell_type": "code",
   "execution_count": null,
   "metadata": {
    "collapsed": true
   },
   "outputs": [],
   "source": [
    "first = np.int32(np.percentile(degree_d,99.9))\n",
    "second = np.int32(np.percentile(degree_d,99))\n",
    "third = np.int32(np.percentile(degree_d,80))\n",
    "forth = np.int32(np.percentile(degree_d,50))"
   ]
  },
  {
   "cell_type": "code",
   "execution_count": null,
   "metadata": {
    "collapsed": true
   },
   "outputs": [],
   "source": [
    "first_l = []\n",
    "second_l = []\n",
    "third_l = []\n",
    "forth_l = []\n",
    "for i in range(df.shape[0]):\n",
    "    if df.loc[i,'degree'] < forth:\n",
    "        forth_l.append(df.loc[i,'per'])\n",
    "        print(\"Inside forth\",df.loc[i,'degree'],forth)\n",
    "    elif df.loc[i,'degree'] < third:\n",
    "        third_l.append(df.loc[i,'per'])\n",
    "        print(\"Inside third\",df.loc[i,'degree'],third)\n",
    "    elif df.loc[i,'degree'] < second:\n",
    "        second_l.append(df.loc[i,'per'])\n",
    "        print(\"Inside second\",df.loc[i,'degree'],second)\n",
    "    else:\n",
    "        first_l.append(df.loc[i,'per'])\n",
    "        print(\"Inside first\",df.loc[i,'degree'],first)"
   ]
  },
  {
   "cell_type": "code",
   "execution_count": null,
   "metadata": {
    "collapsed": true
   },
   "outputs": [],
   "source": [
    "print(round(np.mean(first_l),2),round(np.mean(second_l),2),round(np.mean(third_l),2),round(np.mean(forth_l),2))"
   ]
  },
  {
   "cell_type": "code",
   "execution_count": 25,
   "metadata": {},
   "outputs": [
    {
     "data": {
      "text/plain": [
       "192"
      ]
     },
     "execution_count": 25,
     "metadata": {},
     "output_type": "execute_result"
    }
   ],
   "source": [
    "np.max(degree_d)"
   ]
  },
  {
   "cell_type": "code",
   "execution_count": 54,
   "metadata": {
    "collapsed": true
   },
   "outputs": [],
   "source": [
    "a = np.int32(192)\n",
    "b = np.int32(188)"
   ]
  },
  {
   "cell_type": "code",
   "execution_count": 56,
   "metadata": {},
   "outputs": [
    {
     "data": {
      "text/plain": [
       "True"
      ]
     },
     "execution_count": 56,
     "metadata": {},
     "output_type": "execute_result"
    }
   ],
   "source": [
    "b<a"
   ]
  },
  {
   "cell_type": "code",
   "execution_count": 16,
   "metadata": {},
   "outputs": [
    {
     "ename": "SyntaxError",
     "evalue": "invalid syntax (<ipython-input-16-1f9a70c10a15>, line 1)",
     "output_type": "error",
     "traceback": [
      "\u001b[1;36m  File \u001b[1;32m\"<ipython-input-16-1f9a70c10a15>\"\u001b[1;36m, line \u001b[1;32m1\u001b[0m\n\u001b[1;33m    0.42 0.41 0.59 0.98\u001b[0m\n\u001b[1;37m            ^\u001b[0m\n\u001b[1;31mSyntaxError\u001b[0m\u001b[1;31m:\u001b[0m invalid syntax\n"
     ]
    }
   ],
   "source": [
    "0.42 0.41 0.59 0.98\n",
    "0.44 0.87 0.97 0.95\n",
    "0.53 0.56 nan 0.94\n",
    "0.41 0.55 0.76 0.91"
   ]
  },
  {
   "cell_type": "code",
   "execution_count": null,
   "metadata": {
    "collapsed": true
   },
   "outputs": [],
   "source": []
  },
  {
   "cell_type": "code",
   "execution_count": null,
   "metadata": {
    "collapsed": true
   },
   "outputs": [],
   "source": []
  },
  {
   "cell_type": "code",
   "execution_count": null,
   "metadata": {
    "collapsed": true
   },
   "outputs": [],
   "source": []
  }
 ],
 "metadata": {
  "kernelspec": {
   "display_name": "Python 3",
   "language": "python",
   "name": "python3"
  },
  "language_info": {
   "codemirror_mode": {
    "name": "ipython",
    "version": 3
   },
   "file_extension": ".py",
   "mimetype": "text/x-python",
   "name": "python",
   "nbconvert_exporter": "python",
   "pygments_lexer": "ipython3",
   "version": "3.6.1"
  }
 },
 "nbformat": 4,
 "nbformat_minor": 2
}
