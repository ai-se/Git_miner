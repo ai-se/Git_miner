{
 "cells": [
  {
   "cell_type": "code",
   "execution_count": 1,
   "metadata": {},
   "outputs": [],
   "source": [
    "import social_interaction\n",
    "import code_interaction\n",
    "import buggy_commit\n",
    "import pandas as pd\n",
    "import numpy as np\n",
    "repo_url = 'git://github.com/apache/couchdb.git'\n",
    "repo_name = 'couchdb'"
   ]
  },
  {
   "cell_type": "code",
   "execution_count": null,
   "metadata": {},
   "outputs": [
    {
     "name": "stderr",
     "output_type": "stream",
     "text": [
      "/Users/suvodeepmajumder/Documents/AI4SE/Git_miner/social_interaction.py:37: FutureWarning: Sorting because non-concatenation axis is not aligned. A future version\n",
      "of pandas will change to not sort by default.\n",
      "\n",
      "To accept the future behavior, pass 'sort=True'.\n",
      "\n",
      "To retain the current behavior and silence the warning, pass sort=False\n",
      "\n",
      "  self.comm_details_df = pd.concat([self.comments_details_df,self.issue_details_df])\n"
     ]
    }
   ],
   "source": [
    "sg = social_interaction.create_social_inteaction_graph(repo_name)\n",
    "cg = code_interaction.create_code_interaction_graph(repo_url,repo_name)"
   ]
  },
  {
   "cell_type": "code",
   "execution_count": null,
   "metadata": {},
   "outputs": [],
   "source": [
    "bugs_data = buggy_commit.buggy_commit_maker(repo_name,repo_url,repo_name)\n",
    "bugs_data.get_buggy_commits()\n",
    "buggy_commit_data = bugs_data.get_buggy_committer()"
   ]
  },
  {
   "cell_type": "code",
   "execution_count": null,
   "metadata": {},
   "outputs": [],
   "source": [
    "sg_data = sg.get_user_node_degree()\n",
    "cg_data = cg.get_user_node_degree()\n",
    "commit_data = bugs_data.get_commit_count()"
   ]
  },
  {
   "cell_type": "code",
   "execution_count": null,
   "metadata": {},
   "outputs": [],
   "source": [
    "sg_data_list = []\n",
    "for key, value in sg_data.items():\n",
    "    temp = [key,value]\n",
    "    sg_data_list.append(temp)\n",
    "cg_data_list = []\n",
    "for key, value in cg_data.items():\n",
    "    temp = [key,value]\n",
    "    cg_data_list.append(temp)"
   ]
  },
  {
   "cell_type": "code",
   "execution_count": null,
   "metadata": {},
   "outputs": [],
   "source": [
    "buggy_commit_data_df = pd.DataFrame(buggy_commit_data, columns = ['committer', 'count'])\n",
    "commit_data_df = pd.DataFrame(commit_data, columns = ['committer', 'count'])\n",
    "sg_data_df = pd.DataFrame(sg_data_list, columns = ['committer', 'count'])\n",
    "cg_data_df = pd.DataFrame(cg_data_list, columns = ['committer', 'count'])"
   ]
  },
  {
   "cell_type": "code",
   "execution_count": null,
   "metadata": {},
   "outputs": [],
   "source": [
    "committer_count = []\n",
    "for i in range(bugs_data.commit.shape[0]):\n",
    "    commit_id = bugs_data.commit.loc[i,'commit_number']\n",
    "    user = bugs_data.repo.get(commit_id).committer\n",
    "    committer_count.append([user.name, commit_id, 1])\n",
    "committer_count_df = pd.DataFrame(committer_count, columns = ['committer', 'commit_id', 'ob'])\n",
    "#committer_count_df = committer_count_df.drop_duplicates()\n",
    "df = committer_count_df.groupby( ['committer']).count()\n",
    "commit_count = []\n",
    "for key,value in df.iterrows():\n",
    "    user = key\n",
    "    count = value.values.tolist()[0]\n",
    "    commit_count.append([user,count])"
   ]
  },
  {
   "cell_type": "code",
   "execution_count": null,
   "metadata": {},
   "outputs": [],
   "source": [
    "committer_count"
   ]
  },
  {
   "cell_type": "code",
   "execution_count": null,
   "metadata": {},
   "outputs": [],
   "source": [
    "df = []\n",
    "for i in range(cg_data_df.shape[0]):\n",
    "    print(\"+++++++++++\")\n",
    "    buggy_commit_count = buggy_commit_data_df[buggy_commit_data_df['committer'] == cg_data_df.loc[i,'committer']]['count']\n",
    "    print(buggy_commit_count)\n",
    "    if len(buggy_commit_count) == 0:\n",
    "        continue\n",
    "    commit_count = commit_data_df[commit_data_df['committer'] == cg_data_df.loc[i,'committer']]['count']\n",
    "    print(commit_count)\n",
    "    if len(commit_count) == 0:\n",
    "        continue\n",
    "    node_degree = cg_data_df[cg_data_df['committer'] == cg_data_df.loc[i,'committer']]['count']\n",
    "    df.append([buggy_commit_count.values[0]/commit_count.values[0],node_degree.values[0]])"
   ]
  },
  {
   "cell_type": "code",
   "execution_count": null,
   "metadata": {},
   "outputs": [],
   "source": [
    "df = pd.DataFrame(df, columns = ['per','degree'])"
   ]
  },
  {
   "cell_type": "code",
   "execution_count": null,
   "metadata": {},
   "outputs": [],
   "source": [
    "degree_d = np.array(df['degree'].values.tolist())"
   ]
  },
  {
   "cell_type": "code",
   "execution_count": null,
   "metadata": {},
   "outputs": [],
   "source": [
    "first = np.int32(np.percentile(degree_d,99.9))\n",
    "second = np.int32(np.percentile(degree_d,99))\n",
    "third = np.int32(np.percentile(degree_d,80))\n",
    "forth = np.int32(np.percentile(degree_d,50))"
   ]
  },
  {
   "cell_type": "code",
   "execution_count": null,
   "metadata": {},
   "outputs": [],
   "source": [
    "first_l = []\n",
    "second_l = []\n",
    "third_l = []\n",
    "forth_l = []\n",
    "for i in range(df.shape[0]):\n",
    "    if df.loc[i,'degree'] < forth:\n",
    "        forth_l.append(df.loc[i,'per'])\n",
    "        print(\"Inside forth\",df.loc[i,'degree'],forth)\n",
    "    elif df.loc[i,'degree'] < third:\n",
    "        third_l.append(df.loc[i,'per'])\n",
    "        print(\"Inside third\",df.loc[i,'degree'],third)\n",
    "    elif df.loc[i,'degree'] < second:\n",
    "        second_l.append(df.loc[i,'per'])\n",
    "        print(\"Inside second\",df.loc[i,'degree'],second)\n",
    "    else:\n",
    "        first_l.append(df.loc[i,'per'])\n",
    "        print(\"Inside first\",df.loc[i,'degree'],first)"
   ]
  },
  {
   "cell_type": "code",
   "execution_count": null,
   "metadata": {},
   "outputs": [],
   "source": [
    "print(round(np.mean(first_l),2),round(np.mean(second_l),2),round(np.mean(third_l),2),round(np.mean(forth_l),2))"
   ]
  },
  {
   "cell_type": "code",
   "execution_count": null,
   "metadata": {},
   "outputs": [],
   "source": [
    "np.max(degree_d)"
   ]
  },
  {
   "cell_type": "code",
   "execution_count": null,
   "metadata": {},
   "outputs": [],
   "source": [
    "a = np.int32(192)\n",
    "b = np.int32(188)"
   ]
  },
  {
   "cell_type": "code",
   "execution_count": null,
   "metadata": {},
   "outputs": [],
   "source": [
    "b<a"
   ]
  },
  {
   "cell_type": "code",
   "execution_count": null,
   "metadata": {},
   "outputs": [],
   "source": [
    "0.42 0.41 0.59 0.98\n",
    "0.44 0.87 0.97 0.95\n",
    "0.53 0.56 nan 0.94\n",
    "0.41 0.55 0.76 0.91"
   ]
  },
  {
   "cell_type": "code",
   "execution_count": null,
   "metadata": {},
   "outputs": [],
   "source": [
    "cg"
   ]
  },
  {
   "cell_type": "code",
   "execution_count": null,
   "metadata": {},
   "outputs": [],
   "source": []
  },
  {
   "cell_type": "code",
   "execution_count": null,
   "metadata": {},
   "outputs": [],
   "source": []
  }
 ],
 "metadata": {
  "kernelspec": {
   "display_name": "Python 3",
   "language": "python",
   "name": "python3"
  },
  "language_info": {
   "codemirror_mode": {
    "name": "ipython",
    "version": 3
   },
   "file_extension": ".py",
   "mimetype": "text/x-python",
   "name": "python",
   "nbconvert_exporter": "python",
   "pygments_lexer": "ipython3",
   "version": "3.6.5"
  }
 },
 "nbformat": 4,
 "nbformat_minor": 2
}
