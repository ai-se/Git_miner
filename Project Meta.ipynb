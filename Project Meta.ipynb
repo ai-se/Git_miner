{
 "cells": [
  {
   "cell_type": "code",
   "execution_count": 1,
   "metadata": {},
   "outputs": [],
   "source": [
    "import git2repo\n",
    "import pygit2\n",
    "import re\n",
    "import numpy as np\n",
    "import matplotlib.pyplot as plt\n",
    "import networkx as nx\n",
    "import pandas as pd"
   ]
  },
  {
   "cell_type": "code",
   "execution_count": 16,
   "metadata": {},
   "outputs": [],
   "source": [
    "df = pd.read_csv('project_meta_big.csv')"
   ]
  },
  {
   "cell_type": "code",
   "execution_count": 17,
   "metadata": {},
   "outputs": [
    {
     "data": {
      "text/plain": [
       "Index(['name', 'releases', 'Duration(Hours)', 'Stars', 'Forks', 'Watchers'], dtype='object')"
      ]
     },
     "execution_count": 17,
     "metadata": {},
     "output_type": "execute_result"
    }
   ],
   "source": [
    "df.columns"
   ]
  },
  {
   "cell_type": "code",
   "execution_count": 18,
   "metadata": {},
   "outputs": [],
   "source": [
    "release = df['releases']\n",
    "Duration = df['Duration(Hours)']\n",
    "Stars = df['Stars']\n",
    "Forks = df['Forks']\n",
    "Watchers = df['Watchers']"
   ]
  },
  {
   "cell_type": "code",
   "execution_count": 19,
   "metadata": {},
   "outputs": [
    {
     "data": {
      "text/plain": [
       "{'whiskers': [<matplotlib.lines.Line2D at 0xa19cfa4a8>,\n",
       "  <matplotlib.lines.Line2D at 0xa19cfa940>],\n",
       " 'caps': [<matplotlib.lines.Line2D at 0xa19cfad68>,\n",
       "  <matplotlib.lines.Line2D at 0xa19d011d0>],\n",
       " 'boxes': [<matplotlib.lines.Line2D at 0xa19cfa358>],\n",
       " 'medians': [<matplotlib.lines.Line2D at 0xa19d015f8>],\n",
       " 'fliers': [],\n",
       " 'means': []}"
      ]
     },
     "execution_count": 19,
     "metadata": {},
     "output_type": "execute_result"
    },
    {
     "data": {
      "image/png": "[encoded data removed]",
      "text/plain": [
       "<Figure size 432x288 with 1 Axes>"
      ]
     },
     "metadata": {},
     "output_type": "display_data"
    }
   ],
   "source": [
    "plt.boxplot(release,showfliers=False)"
   ]
  },
  {
   "cell_type": "code",
   "execution_count": 20,
   "metadata": {},
   "outputs": [
    {
     "data": {
      "text/plain": [
       "{'whiskers': [<matplotlib.lines.Line2D at 0xa19786ac8>,\n",
       "  <matplotlib.lines.Line2D at 0x1052ac048>],\n",
       " 'caps': [<matplotlib.lines.Line2D at 0x1052ac3c8>,\n",
       "  <matplotlib.lines.Line2D at 0x1052aca58>],\n",
       " 'boxes': [<matplotlib.lines.Line2D at 0xa19786358>],\n",
       " 'medians': [<matplotlib.lines.Line2D at 0xa194c7630>],\n",
       " 'fliers': [],\n",
       " 'means': []}"
      ]
     },
     "execution_count": 20,
     "metadata": {},
     "output_type": "execute_result"
    },
    {
     "data": {
      "image/png": "[encoded data removed]",
      "text/plain": [
       "<Figure size 432x288 with 1 Axes>"
      ]
     },
     "metadata": {},
     "output_type": "display_data"
    }
   ],
   "source": [
    "plt.boxplot(Duration,showfliers=False)"
   ]
  },
  {
   "cell_type": "code",
   "execution_count": 21,
   "metadata": {},
   "outputs": [
    {
     "data": {
      "text/plain": [
       "{'whiskers': [<matplotlib.lines.Line2D at 0xa19e55320>,\n",
       "  <matplotlib.lines.Line2D at 0xa19e557b8>],\n",
       " 'caps': [<matplotlib.lines.Line2D at 0xa19e55be0>,\n",
       "  <matplotlib.lines.Line2D at 0xa19e60048>],\n",
       " 'boxes': [<matplotlib.lines.Line2D at 0xa19e551d0>],\n",
       " 'medians': [<matplotlib.lines.Line2D at 0xa19e60470>],\n",
       " 'fliers': [],\n",
       " 'means': []}"
      ]
     },
     "execution_count": 21,
     "metadata": {},
     "output_type": "execute_result"
    },
    {
     "data": {
      "image/png": "[encoded data removed]",
      "text/plain": [
       "<Figure size 432x288 with 1 Axes>"
      ]
     },
     "metadata": {},
     "output_type": "display_data"
    }
   ],
   "source": [
    "plt.boxplot(Stars,showfliers=False)"
   ]
  },
  {
   "cell_type": "code",
   "execution_count": 25,
   "metadata": {},
   "outputs": [
    {
     "data": {
      "text/plain": [
       "{'whiskers': [<matplotlib.lines.Line2D at 0xa1a1895c0>,\n",
       "  <matplotlib.lines.Line2D at 0xa1a189a58>],\n",
       " 'caps': [<matplotlib.lines.Line2D at 0xa1a189e80>,\n",
       "  <matplotlib.lines.Line2D at 0xa1a1912e8>],\n",
       " 'boxes': [<matplotlib.lines.Line2D at 0xa1a189470>],\n",
       " 'medians': [<matplotlib.lines.Line2D at 0xa1a191710>],\n",
       " 'fliers': [],\n",
       " 'means': []}"
      ]
     },
     "execution_count": 25,
     "metadata": {},
     "output_type": "execute_result"
    },
    {
     "data": {
      "image/png": "[encoded data removed]",
      "text/plain": [
       "<Figure size 432x288 with 1 Axes>"
      ]
     },
     "metadata": {},
     "output_type": "display_data"
    }
   ],
   "source": [
    "plt.boxplot(Forks,showfliers=False)"
   ]
  },
  {
   "cell_type": "code",
   "execution_count": 23,
   "metadata": {},
   "outputs": [
    {
     "data": {
      "text/plain": [
       "{'whiskers': [<matplotlib.lines.Line2D at 0xa19fa5908>,\n",
       "  <matplotlib.lines.Line2D at 0xa19fa5dd8>],\n",
       " 'caps': [<matplotlib.lines.Line2D at 0xa19fac240>,\n",
       "  <matplotlib.lines.Line2D at 0xa19fac668>],\n",
       " 'boxes': [<matplotlib.lines.Line2D at 0xa19fa57b8>],\n",
       " 'medians': [<matplotlib.lines.Line2D at 0xa19faca90>],\n",
       " 'fliers': [],\n",
       " 'means': []}"
      ]
     },
     "execution_count": 23,
     "metadata": {},
     "output_type": "execute_result"
    },
    {
     "data": {
      "image/png": "[encoded data removed]",
      "text/plain": [
       "<Figure size 432x288 with 1 Axes>"
      ]
     },
     "metadata": {},
     "output_type": "display_data"
    }
   ],
   "source": [
    "plt.boxplot(Watchers,showfliers=False)"
   ]
  },
  {
   "cell_type": "code",
   "execution_count": null,
   "metadata": {},
   "outputs": [],
   "source": []
  }
 ],
 "metadata": {
  "kernelspec": {
   "display_name": "Python 3",
   "language": "python",
   "name": "python3"
  },
  "language_info": {
   "codemirror_mode": {
    "name": "ipython",
    "version": 3
   },
   "file_extension": ".py",
   "mimetype": "text/x-python",
   "name": "python",
   "nbconvert_exporter": "python",
   "pygments_lexer": "ipython3",
   "version": "3.6.5"
  }
 },
 "nbformat": 4,
 "nbformat_minor": 2
}
