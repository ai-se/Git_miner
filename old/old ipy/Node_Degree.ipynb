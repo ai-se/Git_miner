{
 "cells": [
  {
   "cell_type": "code",
   "execution_count": 1,
   "metadata": {},
   "outputs": [],
   "source": [
    "import social_interaction\n",
    "import code_interaction\n",
    "import buggy_commit\n",
    "import pandas as pd\n",
    "import numpy as np\n",
    "import csv\n",
    "import platform\n",
    "from os import listdir\n",
    "from os.path import isfile, join\n",
    "import matplotlib.pyplot as plt"
   ]
  },
  {
   "cell_type": "code",
   "execution_count": 7,
   "metadata": {},
   "outputs": [
    {
     "data": {
      "image/png": "[encoded data removed]",
      "text/plain": [
       "<Figure size 432x288 with 1 Axes>"
      ]
     },
     "metadata": {
      "needs_background": "light"
     },
     "output_type": "display_data"
    },
    {
     "name": "stdout",
     "output_type": "stream",
     "text": [
      "1598 0\n",
      "270 369 655\n"
     ]
    }
   ],
   "source": [
    "#Code\n",
    "if platform.system() == 'Darwin' or platform.system() == 'Linux':\n",
    "    _dir = 'Processed Data/'\n",
    "else:\n",
    "    _dir = 'Processed Data\\\\'\n",
    "Files = [join(_dir, f) for f in listdir(_dir) if isfile(join(_dir, f))]\n",
    "actual_file = 0\n",
    "usable_files = 0\n",
    "size_s = 0\n",
    "size_m = 0\n",
    "size_l = 0\n",
    "result = []\n",
    "for file in Files:\n",
    "    try:\n",
    "        _df = []\n",
    "        actual_file += 1\n",
    "        df = pd.read_pickle(file)\n",
    "        buggy_commit_data_df = df.loc[0,'buggy_commit_data_df']\n",
    "        commit_data_df = df.loc[0,'commit_data_df']\n",
    "        commit_count = df.loc[0,'commit_count']\n",
    "        sg_data_df = df.loc[0,'sg_data_df']\n",
    "        cg_data_df = df.loc[0,'cg_data_df']\n",
    "        if commit_data_df.shape[0] > 30:\n",
    "            size_l += 1\n",
    "        elif commit_data_df.shape[0] > 15:\n",
    "            size_m += 1\n",
    "        elif commit_data_df.shape[0] > 8:\n",
    "            size_s += 1\n",
    "        if commit_data_df.shape[0] < 8:\n",
    "            continue\n",
    "        for i in range(cg_data_df.shape[0]):\n",
    "            buggy_commit_count = buggy_commit_data_df[buggy_commit_data_df['committer'] == cg_data_df.loc[i,'committer']]['count']\n",
    "            if len(buggy_commit_count) == 0:\n",
    "                continue\n",
    "            commit_count = commit_data_df[commit_data_df['committer'] == cg_data_df.loc[i,'committer']]['count']\n",
    "            if len(commit_count) == 0:\n",
    "                continue\n",
    "            node_degree = cg_data_df[cg_data_df['committer'] == cg_data_df.loc[i,'committer']]['count']\n",
    "            #print([buggy_commit_count.values[0],commit_count.values[0],node_degree.values[0]])\n",
    "            _df.append([buggy_commit_count.values[0]/commit_count.values[0],node_degree.values[0]])\n",
    "        df = pd.DataFrame(_df, columns = ['per','degree'])\n",
    "        #print(round(np.median(first_l),2),round(np.median(second_l),2),round(np.median(third_l),2),round(np.median(forth_l),2))\n",
    "        result.append([file,np.sort(df['degree'].values)])\n",
    "        plt.plot(np.sort(df['degree'].values))\n",
    "    except:\n",
    "        continue\n",
    "plt.show()\n",
    "print(actual_file,usable_files)\n",
    "print(size_s,size_m,size_l)"
   ]
  },
  {
   "cell_type": "code",
   "execution_count": 3,
   "metadata": {},
   "outputs": [],
   "source": [
    "c_result_df = pd.DataFrame(result, columns = ['project','degree'])"
   ]
  },
  {
   "cell_type": "code",
   "execution_count": null,
   "metadata": {},
   "outputs": [],
   "source": [
    "c_result_df.to_excel('new_results/degree.xlsx')"
   ]
  },
  {
   "cell_type": "code",
   "execution_count": 4,
   "metadata": {},
   "outputs": [],
   "source": [
    "for i in range(c_result_df.shape[0]):\n",
    "    plt.plot(sort(c_result_df.iloc[i,1]))\n",
    "    plt.show()"
   ]
  },
  {
   "cell_type": "code",
   "execution_count": 5,
   "metadata": {},
   "outputs": [
    {
     "data": {
      "text/html": [
       "<div>\n",
       "<style scoped>\n",
       "    .dataframe tbody tr th:only-of-type {\n",
       "        vertical-align: middle;\n",
       "    }\n",
       "\n",
       "    .dataframe tbody tr th {\n",
       "        vertical-align: top;\n",
       "    }\n",
       "\n",
       "    .dataframe thead th {\n",
       "        text-align: right;\n",
       "    }\n",
       "</style>\n",
       "<table border=\"1\" class=\"dataframe\">\n",
       "  <thead>\n",
       "    <tr style=\"text-align: right;\">\n",
       "      <th></th>\n",
       "      <th>project</th>\n",
       "      <th>degree</th>\n",
       "    </tr>\n",
       "  </thead>\n",
       "  <tbody>\n",
       "  </tbody>\n",
       "</table>\n",
       "</div>"
      ],
      "text/plain": [
       "Empty DataFrame\n",
       "Columns: [project, degree]\n",
       "Index: []"
      ]
     },
     "execution_count": 5,
     "metadata": {},
     "output_type": "execute_result"
    }
   ],
   "source": []
  },
  {
   "cell_type": "code",
   "execution_count": null,
   "metadata": {},
   "outputs": [],
   "source": [
    "#c_result_df.to_excel('new_results/Result_data_team_c.xlsx')"
   ]
  },
  {
   "cell_type": "code",
   "execution_count": null,
   "metadata": {},
   "outputs": [],
   "source": []
  },
  {
   "cell_type": "code",
   "execution_count": null,
   "metadata": {},
   "outputs": [],
   "source": []
  },
  {
   "cell_type": "code",
   "execution_count": null,
   "metadata": {},
   "outputs": [],
   "source": []
  },
  {
   "cell_type": "code",
   "execution_count": null,
   "metadata": {},
   "outputs": [],
   "source": []
  }
 ],
 "metadata": {
  "kernelspec": {
   "display_name": "Python 3",
   "language": "python",
   "name": "python3"
  },
  "language_info": {
   "codemirror_mode": {
    "name": "ipython",
    "version": 3
   },
   "file_extension": ".py",
   "mimetype": "text/x-python",
   "name": "python",
   "nbconvert_exporter": "python",
   "pygments_lexer": "ipython3",
   "version": "3.7.1"
  }
 },
 "nbformat": 4,
 "nbformat_minor": 2
}
