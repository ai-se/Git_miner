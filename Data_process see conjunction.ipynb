{
 "cells": [
  {
   "cell_type": "code",
   "execution_count": 2,
   "metadata": {},
   "outputs": [],
   "source": [
    "#import social_interaction\n",
    "#import code_interaction\n",
    "#import buggy_commit\n",
    "import pandas as pd\n",
    "import numpy as np\n",
    "import csv\n",
    "import platform\n",
    "from os import listdir\n",
    "from os.path import isfile, join\n",
    "import matplotlib.pyplot as plt"
   ]
  },
  {
   "cell_type": "code",
   "execution_count": 56,
   "metadata": {},
   "outputs": [
    {
     "name": "stdout",
     "output_type": "stream",
     "text": [
      "233\n",
      "0\n"
     ]
    }
   ],
   "source": [
    "if platform.system() == 'Darwin' or platform.system() == 'Linux':\n",
    "    _dir = 'Processed_data/'\n",
    "else:\n",
    "    _dir = 'Processed Data\\\\'\n",
    "Files = [join(_dir, f) for f in listdir(_dir) if isfile(join(_dir, f))]\n",
    "print(len(Files))\n",
    "actual_file = 0\n",
    "usable_files = 0\n",
    "size_s = 0\n",
    "size_m = 0\n",
    "size_l = 0\n",
    "result = []\n",
    "for file in Files:\n",
    "    try:\n",
    "        _df = []\n",
    "        actual_file += 1\n",
    "        df = pd.read_pickle(file)\n",
    "        buggy_commit_data_df = df.loc[0,'buggy_commit_data_df']\n",
    "        commit_data_df = df.loc[0,'commit_data_df']\n",
    "        commit_count = df.loc[0,'commit_count']\n",
    "        sg_data_df = df.loc[0,'sg_data_df']\n",
    "        cg_data_df = df.loc[0,'cg_data_df']\n",
    "        sg_data_df_n = sg_data_df.set_index('committer')\n",
    "        cg_data_df_n = cg_data_df.set_index('committer')\n",
    "        sg_data_df_n = sg_data_df_n.sort_values(by=['count'])\n",
    "        cg_data_df_n = cg_data_df_n.sort_values(by=['count'])\n",
    "        c_dev = cg_data_df_n.index.values.tolist()\n",
    "        c_dev_top = c_dev[int(len(c_dev)*0.8):]\n",
    "        s_dev = sg_data_df_n.index.values.tolist()\n",
    "        s_dev_top = s_dev[int(len(c_dev)*0.8):]\n",
    "        common = list(set(c_dev_top) & set(s_dev))\n",
    "        result.append([file,len(common)/len(c_dev_top)])\n",
    "    except Exception as e:\n",
    "        print(e)\n",
    "        continue\n",
    "        "
   ]
  },
  {
   "cell_type": "code",
   "execution_count": 57,
   "metadata": {},
   "outputs": [],
   "source": [
    "df = pd.DataFrame(result,columns = ['projects','ratio_conjunction'])\n",
    "df.to_csv('conjunction.csv')"
   ]
  },
  {
   "cell_type": "code",
   "execution_count": null,
   "metadata": {},
   "outputs": [],
   "source": []
  }
 ],
 "metadata": {
  "kernelspec": {
   "display_name": "Python 3",
   "language": "python",
   "name": "python3"
  },
  "language_info": {
   "codemirror_mode": {
    "name": "ipython",
    "version": 3
   },
   "file_extension": ".py",
   "mimetype": "text/x-python",
   "name": "python",
   "nbconvert_exporter": "python",
   "pygments_lexer": "ipython3",
   "version": "3.7.3"
  }
 },
 "nbformat": 4,
 "nbformat_minor": 2
}
