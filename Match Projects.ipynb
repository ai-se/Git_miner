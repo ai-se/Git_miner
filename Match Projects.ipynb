{
 "cells": [
  {
   "cell_type": "code",
   "execution_count": 1,
   "metadata": {},
   "outputs": [],
   "source": [
    "import pandas as pd\n",
    "import numpy as np\n",
    "import csv\n",
    "import platform\n",
    "from os import listdir\n",
    "from os.path import isfile, join\n",
    "import matplotlib.pyplot as plt"
   ]
  },
  {
   "cell_type": "code",
   "execution_count": 16,
   "metadata": {},
   "outputs": [],
   "source": [
    "if platform.system() == 'Darwin' or platform.system() == 'Linux':\n",
    "    _dir = 'Processed_data/'\n",
    "else:\n",
    "    _dir = 'Processed_data\\\\'\n",
    "Files = [join(_dir, f) for f in listdir(_dir) if isfile(join(_dir, f))]"
   ]
  },
  {
   "cell_type": "code",
   "execution_count": 26,
   "metadata": {},
   "outputs": [],
   "source": [
    "df = pd.read_csv('project_list (1).csv')"
   ]
  },
  {
   "cell_type": "code",
   "execution_count": 28,
   "metadata": {},
   "outputs": [],
   "source": [
    "df_repos = df.repo_name.values.tolist()"
   ]
  },
  {
   "cell_type": "code",
   "execution_count": 30,
   "metadata": {},
   "outputs": [
    {
     "name": "stdout",
     "output_type": "stream",
     "text": [
      "HoTT\n",
      "cotabo\n",
      "Podcast\n",
      "python-haystack\n",
      "Beseda\n",
      ".DS_Store\n",
      "osxfuse\n",
      "Medmon\n",
      "MozSecWorld\n",
      "tmplat-chrome\n",
      "mittun\n",
      "mapfilter\n",
      "rrdf\n",
      "NeatlineFeatures\n",
      "Moodle-Flashcard\n",
      "MPlayer-OSX-Extended\n",
      "JS-Klass-Kit\n",
      "WebLapine\n",
      "AndroidBillingLibrary\n",
      "django-cms-search\n",
      "miniedit\n",
      "Purchasing\n",
      "umongo\n",
      "fmpstandards\n",
      "magickly\n",
      "ls\n",
      "psycopg2-ctypes\n",
      "fuelphp-casset\n",
      "pystun\n",
      "tasktracker\n",
      "cocoadialog\n",
      "Lunch-Randomizer\n"
     ]
    }
   ],
   "source": [
    "projects = []\n",
    "for file in Files:\n",
    "    project = file.split('/')[1].split('_final')[0]\n",
    "    if project in df_repos:\n",
    "        projects.append(project)\n",
    "        #print(project)\n",
    "    else:\n",
    "        print(project)"
   ]
  },
  {
   "cell_type": "code",
   "execution_count": 31,
   "metadata": {},
   "outputs": [
    {
     "data": {
      "text/plain": [
       "597"
      ]
     },
     "execution_count": 31,
     "metadata": {},
     "output_type": "execute_result"
    }
   ],
   "source": [
    "len(projects)"
   ]
  },
  {
   "cell_type": "code",
   "execution_count": null,
   "metadata": {},
   "outputs": [],
   "source": []
  }
 ],
 "metadata": {
  "kernelspec": {
   "display_name": "Python 3",
   "language": "python",
   "name": "python3"
  },
  "language_info": {
   "codemirror_mode": {
    "name": "ipython",
    "version": 3
   },
   "file_extension": ".py",
   "mimetype": "text/x-python",
   "name": "python",
   "nbconvert_exporter": "python",
   "pygments_lexer": "ipython3",
   "version": "3.7.3"
  }
 },
 "nbformat": 4,
 "nbformat_minor": 2
}
